{
 "cells": [
  {
   "cell_type": "markdown",
   "metadata": {},
   "source": [
    "# Sparkify Project Workspace\n",
    "This workspace contains a tiny subset (128MB) of the full dataset available (12GB). Feel free to use this workspace to build your project, or to explore a smaller subset with Spark before deploying your cluster on the cloud. Instructions for setting up your Spark cluster is included in the last lesson of the Extracurricular Spark Course content.\n",
    "\n",
    "You can follow the steps below to guide your data analysis and model building portion of this project."
   ]
  },
  {
   "cell_type": "code",
   "execution_count": 1,
   "metadata": {},
   "outputs": [],
   "source": [
    "# import libraries\n",
    "from pyspark.sql import SparkSession"
   ]
  },
  {
   "cell_type": "code",
   "execution_count": 2,
   "metadata": {},
   "outputs": [],
   "source": [
    "from pyspark.sql.functions import udf\n",
    "from pyspark.sql.types import StringType\n",
    "from pyspark.sql.types import IntegerType\n",
    "from pyspark.sql.functions import desc\n",
    "from pyspark.sql.functions import asc\n",
    "from pyspark.sql.functions import sum as Fsum\n",
    "\n",
    "import datetime\n",
    "\n",
    "from pyspark.sql import Window\n",
    "import pandas as pd\n",
    "import numpy as np\n",
    "from matplotlib import pyplot as plt\n",
    "%matplotlib inline\n",
    "\n",
    "import re\n",
    "from pyspark.sql import functions as sF\n",
    "from pyspark.sql import types as sT\n",
    "\n",
    "from functools import reduce"
   ]
  },
  {
   "cell_type": "code",
   "execution_count": 3,
   "metadata": {},
   "outputs": [],
   "source": [
    "# ML imports\n",
    "from pyspark.ml.feature import Normalizer, StandardScaler, VectorAssembler\n",
    "from pyspark.ml.classification import DecisionTreeClassifier, GBTClassifier, LogisticRegression, MultilayerPerceptronClassifier, NaiveBayes, RandomForestClassifier\n",
    "from pyspark.ml.regression import LinearRegression\n",
    "from pyspark.ml.evaluation import MulticlassClassificationEvaluator\n",
    "from pyspark.ml.tuning import CrossValidator, ParamGridBuilder"
   ]
  },
  {
   "cell_type": "code",
   "execution_count": 4,
   "metadata": {},
   "outputs": [],
   "source": [
    "# TO load saved models \n",
    "from pyspark.ml.tuning import CrossValidatorModel as mlm"
   ]
  },
  {
   "cell_type": "code",
   "execution_count": 5,
   "metadata": {},
   "outputs": [],
   "source": [
    "# create a Spark session\n",
    "spark = SparkSession.builder.appName(\"Sparkify\").getOrCreate()"
   ]
  },
  {
   "cell_type": "markdown",
   "metadata": {},
   "source": [
    "# Load and Clean Dataset\n",
    "In this workspace, the mini-dataset file is `mini_sparkify_event_data.json`. Load and clean the dataset, checking for invalid or missing data - for example, records without userids or sessionids. "
   ]
  },
  {
   "cell_type": "code",
   "execution_count": 6,
   "metadata": {
    "scrolled": true
   },
   "outputs": [
    {
     "name": "stdout",
     "output_type": "stream",
     "text": [
      "root\n",
      " |-- artist: string (nullable = true)\n",
      " |-- auth: string (nullable = true)\n",
      " |-- firstName: string (nullable = true)\n",
      " |-- gender: string (nullable = true)\n",
      " |-- itemInSession: long (nullable = true)\n",
      " |-- lastName: string (nullable = true)\n",
      " |-- length: double (nullable = true)\n",
      " |-- level: string (nullable = true)\n",
      " |-- location: string (nullable = true)\n",
      " |-- method: string (nullable = true)\n",
      " |-- page: string (nullable = true)\n",
      " |-- registration: long (nullable = true)\n",
      " |-- sessionId: long (nullable = true)\n",
      " |-- song: string (nullable = true)\n",
      " |-- status: long (nullable = true)\n",
      " |-- ts: long (nullable = true)\n",
      " |-- userAgent: string (nullable = true)\n",
      " |-- userId: string (nullable = true)\n",
      "\n"
     ]
    }
   ],
   "source": [
    "data_path = 'mini_sparkify_event_data.json'\n",
    "df = spark.read.json(data_path)\n",
    "# See the frame schema\n",
    "df.printSchema()"
   ]
  },
  {
   "cell_type": "code",
   "execution_count": 7,
   "metadata": {},
   "outputs": [
    {
     "data": {
      "text/html": [
       "<div>\n",
       "<style scoped>\n",
       "    .dataframe tbody tr th:only-of-type {\n",
       "        vertical-align: middle;\n",
       "    }\n",
       "\n",
       "    .dataframe tbody tr th {\n",
       "        vertical-align: top;\n",
       "    }\n",
       "\n",
       "    .dataframe thead th {\n",
       "        text-align: right;\n",
       "    }\n",
       "</style>\n",
       "<table border=\"1\" class=\"dataframe\">\n",
       "  <thead>\n",
       "    <tr style=\"text-align: right;\">\n",
       "      <th></th>\n",
       "      <th>artist</th>\n",
       "      <th>auth</th>\n",
       "      <th>firstName</th>\n",
       "      <th>gender</th>\n",
       "      <th>itemInSession</th>\n",
       "      <th>lastName</th>\n",
       "      <th>length</th>\n",
       "      <th>level</th>\n",
       "      <th>location</th>\n",
       "      <th>method</th>\n",
       "      <th>page</th>\n",
       "      <th>registration</th>\n",
       "      <th>sessionId</th>\n",
       "      <th>song</th>\n",
       "      <th>status</th>\n",
       "      <th>ts</th>\n",
       "      <th>userAgent</th>\n",
       "      <th>userId</th>\n",
       "    </tr>\n",
       "  </thead>\n",
       "  <tbody>\n",
       "    <tr>\n",
       "      <th>0</th>\n",
       "      <td>Martha Tilston</td>\n",
       "      <td>Logged In</td>\n",
       "      <td>Colin</td>\n",
       "      <td>M</td>\n",
       "      <td>50</td>\n",
       "      <td>Freeman</td>\n",
       "      <td>277.89016</td>\n",
       "      <td>paid</td>\n",
       "      <td>Bakersfield, CA</td>\n",
       "      <td>PUT</td>\n",
       "      <td>NextSong</td>\n",
       "      <td>1.538173e+12</td>\n",
       "      <td>29</td>\n",
       "      <td>Rockpools</td>\n",
       "      <td>200</td>\n",
       "      <td>1538352117000</td>\n",
       "      <td>Mozilla/5.0 (Windows NT 6.1; WOW64; rv:31.0) G...</td>\n",
       "      <td>30</td>\n",
       "    </tr>\n",
       "    <tr>\n",
       "      <th>1</th>\n",
       "      <td>Five Iron Frenzy</td>\n",
       "      <td>Logged In</td>\n",
       "      <td>Micah</td>\n",
       "      <td>M</td>\n",
       "      <td>79</td>\n",
       "      <td>Long</td>\n",
       "      <td>236.09424</td>\n",
       "      <td>free</td>\n",
       "      <td>Boston-Cambridge-Newton, MA-NH</td>\n",
       "      <td>PUT</td>\n",
       "      <td>NextSong</td>\n",
       "      <td>1.538332e+12</td>\n",
       "      <td>8</td>\n",
       "      <td>Canada</td>\n",
       "      <td>200</td>\n",
       "      <td>1538352180000</td>\n",
       "      <td>\"Mozilla/5.0 (Windows NT 6.1; WOW64) AppleWebK...</td>\n",
       "      <td>9</td>\n",
       "    </tr>\n",
       "    <tr>\n",
       "      <th>2</th>\n",
       "      <td>Adam Lambert</td>\n",
       "      <td>Logged In</td>\n",
       "      <td>Colin</td>\n",
       "      <td>M</td>\n",
       "      <td>51</td>\n",
       "      <td>Freeman</td>\n",
       "      <td>282.82730</td>\n",
       "      <td>paid</td>\n",
       "      <td>Bakersfield, CA</td>\n",
       "      <td>PUT</td>\n",
       "      <td>NextSong</td>\n",
       "      <td>1.538173e+12</td>\n",
       "      <td>29</td>\n",
       "      <td>Time For Miracles</td>\n",
       "      <td>200</td>\n",
       "      <td>1538352394000</td>\n",
       "      <td>Mozilla/5.0 (Windows NT 6.1; WOW64; rv:31.0) G...</td>\n",
       "      <td>30</td>\n",
       "    </tr>\n",
       "    <tr>\n",
       "      <th>3</th>\n",
       "      <td>Enigma</td>\n",
       "      <td>Logged In</td>\n",
       "      <td>Micah</td>\n",
       "      <td>M</td>\n",
       "      <td>80</td>\n",
       "      <td>Long</td>\n",
       "      <td>262.71302</td>\n",
       "      <td>free</td>\n",
       "      <td>Boston-Cambridge-Newton, MA-NH</td>\n",
       "      <td>PUT</td>\n",
       "      <td>NextSong</td>\n",
       "      <td>1.538332e+12</td>\n",
       "      <td>8</td>\n",
       "      <td>Knocking On Forbidden Doors</td>\n",
       "      <td>200</td>\n",
       "      <td>1538352416000</td>\n",
       "      <td>\"Mozilla/5.0 (Windows NT 6.1; WOW64) AppleWebK...</td>\n",
       "      <td>9</td>\n",
       "    </tr>\n",
       "    <tr>\n",
       "      <th>4</th>\n",
       "      <td>Daft Punk</td>\n",
       "      <td>Logged In</td>\n",
       "      <td>Colin</td>\n",
       "      <td>M</td>\n",
       "      <td>52</td>\n",
       "      <td>Freeman</td>\n",
       "      <td>223.60771</td>\n",
       "      <td>paid</td>\n",
       "      <td>Bakersfield, CA</td>\n",
       "      <td>PUT</td>\n",
       "      <td>NextSong</td>\n",
       "      <td>1.538173e+12</td>\n",
       "      <td>29</td>\n",
       "      <td>Harder Better Faster Stronger</td>\n",
       "      <td>200</td>\n",
       "      <td>1538352676000</td>\n",
       "      <td>Mozilla/5.0 (Windows NT 6.1; WOW64; rv:31.0) G...</td>\n",
       "      <td>30</td>\n",
       "    </tr>\n",
       "  </tbody>\n",
       "</table>\n",
       "</div>"
      ],
      "text/plain": [
       "             artist       auth firstName gender  itemInSession lastName  \\\n",
       "0    Martha Tilston  Logged In     Colin      M             50  Freeman   \n",
       "1  Five Iron Frenzy  Logged In     Micah      M             79     Long   \n",
       "2      Adam Lambert  Logged In     Colin      M             51  Freeman   \n",
       "3            Enigma  Logged In     Micah      M             80     Long   \n",
       "4         Daft Punk  Logged In     Colin      M             52  Freeman   \n",
       "\n",
       "      length level                        location method      page  \\\n",
       "0  277.89016  paid                 Bakersfield, CA    PUT  NextSong   \n",
       "1  236.09424  free  Boston-Cambridge-Newton, MA-NH    PUT  NextSong   \n",
       "2  282.82730  paid                 Bakersfield, CA    PUT  NextSong   \n",
       "3  262.71302  free  Boston-Cambridge-Newton, MA-NH    PUT  NextSong   \n",
       "4  223.60771  paid                 Bakersfield, CA    PUT  NextSong   \n",
       "\n",
       "   registration  sessionId                           song  status  \\\n",
       "0  1.538173e+12         29                      Rockpools     200   \n",
       "1  1.538332e+12          8                         Canada     200   \n",
       "2  1.538173e+12         29              Time For Miracles     200   \n",
       "3  1.538332e+12          8    Knocking On Forbidden Doors     200   \n",
       "4  1.538173e+12         29  Harder Better Faster Stronger     200   \n",
       "\n",
       "              ts                                          userAgent userId  \n",
       "0  1538352117000  Mozilla/5.0 (Windows NT 6.1; WOW64; rv:31.0) G...     30  \n",
       "1  1538352180000  \"Mozilla/5.0 (Windows NT 6.1; WOW64) AppleWebK...      9  \n",
       "2  1538352394000  Mozilla/5.0 (Windows NT 6.1; WOW64; rv:31.0) G...     30  \n",
       "3  1538352416000  \"Mozilla/5.0 (Windows NT 6.1; WOW64) AppleWebK...      9  \n",
       "4  1538352676000  Mozilla/5.0 (Windows NT 6.1; WOW64; rv:31.0) G...     30  "
      ]
     },
     "execution_count": 7,
     "metadata": {},
     "output_type": "execute_result"
    }
   ],
   "source": [
    "# Tabulated head through pandas\n",
    "dfp = df.toPandas()\n",
    "dfp.head()"
   ]
  },
  {
   "cell_type": "code",
   "execution_count": 8,
   "metadata": {},
   "outputs": [
    {
     "name": "stdout",
     "output_type": "stream",
     "text": [
      "<class 'pandas.core.frame.DataFrame'>\n",
      "RangeIndex: 286500 entries, 0 to 286499\n",
      "Data columns (total 18 columns):\n",
      "artist           228108 non-null object\n",
      "auth             286500 non-null object\n",
      "firstName        278154 non-null object\n",
      "gender           278154 non-null object\n",
      "itemInSession    286500 non-null int64\n",
      "lastName         278154 non-null object\n",
      "length           228108 non-null float64\n",
      "level            286500 non-null object\n",
      "location         278154 non-null object\n",
      "method           286500 non-null object\n",
      "page             286500 non-null object\n",
      "registration     278154 non-null float64\n",
      "sessionId        286500 non-null int64\n",
      "song             228108 non-null object\n",
      "status           286500 non-null int64\n",
      "ts               286500 non-null int64\n",
      "userAgent        278154 non-null object\n",
      "userId           286500 non-null object\n",
      "dtypes: float64(2), int64(4), object(12)\n",
      "memory usage: 39.3+ MB\n"
     ]
    }
   ],
   "source": [
    "# To know nulls\n",
    "dfp.info()"
   ]
  },
  {
   "cell_type": "code",
   "execution_count": 9,
   "metadata": {},
   "outputs": [
    {
     "data": {
      "text/plain": [
       "(array(['paid', 'free'], dtype=object),\n",
       " array(['PUT', 'GET'], dtype=object),\n",
       " array(['NextSong', 'Add to Playlist', 'Roll Advert', 'Thumbs Up',\n",
       "        'Downgrade', 'Thumbs Down', 'Home', 'Logout', 'Help', 'Login',\n",
       "        'Upgrade', 'Add Friend', 'About', 'Settings', 'Submit Upgrade',\n",
       "        'Submit Downgrade', 'Error', 'Save Settings', 'Cancel',\n",
       "        'Cancellation Confirmation', 'Register', 'Submit Registration'], dtype=object),\n",
       " array([200, 307, 404]),\n",
       " array(['M', 'F', None], dtype=object),\n",
       " array(['Logged In', 'Logged Out', 'Cancelled', 'Guest'], dtype=object))"
      ]
     },
     "execution_count": 9,
     "metadata": {},
     "output_type": "execute_result"
    }
   ],
   "source": [
    "# Explore the values of some categoric columns\n",
    "dfp.level.unique(), dfp.method.unique(), dfp.page.unique(), dfp.status.unique(), dfp.gender.unique(), dfp.auth.unique()"
   ]
  },
  {
   "cell_type": "markdown",
   "metadata": {},
   "source": [
    "**Dropping records without userids or sessionids**"
   ]
  },
  {
   "cell_type": "code",
   "execution_count": 10,
   "metadata": {},
   "outputs": [
    {
     "data": {
      "text/plain": [
       "8346"
      ]
     },
     "execution_count": 10,
     "metadata": {},
     "output_type": "execute_result"
    }
   ],
   "source": [
    "dfp[dfp.userId == '']['userId'].count()#, dfp[dfp.sessionId =='']['sessionId'].count()"
   ]
  },
  {
   "cell_type": "code",
   "execution_count": 11,
   "metadata": {},
   "outputs": [
    {
     "data": {
      "text/plain": [
       "0"
      ]
     },
     "execution_count": 11,
     "metadata": {},
     "output_type": "execute_result"
    }
   ],
   "source": [
    "# dfp[dfp.sessionId == '']\n",
    "\n",
    "# Using Spark commands\n",
    "df.filter(df.sessionId == '').count()"
   ]
  },
  {
   "cell_type": "code",
   "execution_count": 12,
   "metadata": {},
   "outputs": [
    {
     "data": {
      "text/plain": [
       "0"
      ]
     },
     "execution_count": 12,
     "metadata": {},
     "output_type": "execute_result"
    }
   ],
   "source": [
    "# Dropping the missing User's ID rows\n",
    "df = df.filter(df.userId != '')\n",
    "# Check! SHOULD be 0\n",
    "df.filter(df.userId == '').count()"
   ]
  },
  {
   "cell_type": "code",
   "execution_count": 13,
   "metadata": {},
   "outputs": [],
   "source": [
    "# redefine the pandas dataframe\n",
    "dfp = df.toPandas()"
   ]
  },
  {
   "cell_type": "code",
   "execution_count": 14,
   "metadata": {},
   "outputs": [
    {
     "data": {
      "text/plain": [
       "(array(['paid', 'free'], dtype=object),\n",
       " array(['PUT', 'GET'], dtype=object),\n",
       " array(['NextSong', 'Add to Playlist', 'Roll Advert', 'Thumbs Up',\n",
       "        'Downgrade', 'Thumbs Down', 'Home', 'Logout', 'Help', 'Upgrade',\n",
       "        'Add Friend', 'Settings', 'Submit Upgrade', 'About',\n",
       "        'Submit Downgrade', 'Error', 'Save Settings', 'Cancel',\n",
       "        'Cancellation Confirmation'], dtype=object),\n",
       " array([200, 307, 404]),\n",
       " array(['M', 'F'], dtype=object),\n",
       " array(['Logged In', 'Cancelled'], dtype=object))"
      ]
     },
     "execution_count": 14,
     "metadata": {},
     "output_type": "execute_result"
    }
   ],
   "source": [
    "# Explore the values of few categoric columns\n",
    "dfp.level.unique(), dfp.method.unique(), dfp.page.unique(), dfp.status.unique(), dfp.gender.unique(), dfp.auth.unique()"
   ]
  },
  {
   "cell_type": "markdown",
   "metadata": {},
   "source": [
    "**Observation**\n",
    "I have observed that while userId and sessionId are cleaned, the auth column lost two values 'Logged Out', and 'Guest' and the page column lost few values as well such as: ‘Login', 'Register', and 'Submit Registration'\n",
    "\n",
    "This is rational, as the users without a usedId, either are guests or logged out users. Only guests can Register, or Submit Registration, while only logged out users can log in."
   ]
  },
  {
   "cell_type": "markdown",
   "metadata": {},
   "source": [
    "# Exploratory Data Analysis\n",
    "When you're working with the full dataset, perform EDA by loading a small subset of the data and doing basic manipulations within Spark. In this workspace, you are already provided a small subset of data you can explore."
   ]
  },
  {
   "cell_type": "code",
   "execution_count": 15,
   "metadata": {},
   "outputs": [
    {
     "data": {
      "text/plain": [
       "['Unique userIds: 225', 'Unique pages: 19', 'Unique sessionIds: 2312']"
      ]
     },
     "execution_count": 15,
     "metadata": {},
     "output_type": "execute_result"
    }
   ],
   "source": [
    "# Find the number of users, pages and sessions\n",
    "\n",
    "[f'Unique {col}s: {df.select(col).dropDuplicates().count()}' for col in ('userId', 'page', 'sessionId')]"
   ]
  },
  {
   "cell_type": "code",
   "execution_count": 16,
   "metadata": {},
   "outputs": [
    {
     "data": {
      "text/plain": [
       "225"
      ]
     },
     "execution_count": 16,
     "metadata": {},
     "output_type": "execute_result"
    }
   ],
   "source": [
    "# identify number of unique users\n",
    "df.select('userId').dropDuplicates().count()"
   ]
  },
  {
   "cell_type": "markdown",
   "metadata": {},
   "source": [
    "### Define Churn\n",
    "\n",
    "\n",
    "Once you've done some preliminary analysis, create a column Churn to use as the label for your model. I suggest using the Cancellation Confirmation events to define your churn, which happen for both paid and free users. As a bonus task, you can also look into the Downgrade events."
   ]
  },
  {
   "cell_type": "code",
   "execution_count": 17,
   "metadata": {},
   "outputs": [],
   "source": [
    "# Churn is a label for user who have had cancellation\n",
    "# Define a flag function\n",
    "flag_cancelation_event = udf(lambda x: 1 if x == \"Cancellation Confirmation\" else 0, IntegerType())\n",
    "# apply to the dataframe\n",
    "df = df.withColumn(\"churn\", flag_cancelation_event(\"page\"))\n",
    "#Define window bounds\n",
    "windowval = Window.partitionBy(\"userId\").rangeBetween(Window.unboundedPreceding, Window.unboundedFollowing)\n",
    "# Applying the window\n",
    "df = df.withColumn(\"churn\", Fsum(\"churn\").over(windowval))"
   ]
  },
  {
   "cell_type": "code",
   "execution_count": 18,
   "metadata": {},
   "outputs": [],
   "source": [
    "dfp = df.toPandas()"
   ]
  },
  {
   "cell_type": "code",
   "execution_count": 19,
   "metadata": {},
   "outputs": [
    {
     "data": {
      "text/html": [
       "<div>\n",
       "<style scoped>\n",
       "    .dataframe tbody tr th:only-of-type {\n",
       "        vertical-align: middle;\n",
       "    }\n",
       "\n",
       "    .dataframe tbody tr th {\n",
       "        vertical-align: top;\n",
       "    }\n",
       "\n",
       "    .dataframe thead th {\n",
       "        text-align: right;\n",
       "    }\n",
       "</style>\n",
       "<table border=\"1\" class=\"dataframe\">\n",
       "  <thead>\n",
       "    <tr style=\"text-align: right;\">\n",
       "      <th></th>\n",
       "      <th>artist</th>\n",
       "      <th>auth</th>\n",
       "      <th>firstName</th>\n",
       "      <th>gender</th>\n",
       "      <th>itemInSession</th>\n",
       "      <th>lastName</th>\n",
       "      <th>length</th>\n",
       "      <th>level</th>\n",
       "      <th>location</th>\n",
       "      <th>method</th>\n",
       "      <th>page</th>\n",
       "      <th>registration</th>\n",
       "      <th>sessionId</th>\n",
       "      <th>song</th>\n",
       "      <th>status</th>\n",
       "      <th>ts</th>\n",
       "      <th>userAgent</th>\n",
       "      <th>userId</th>\n",
       "      <th>churn</th>\n",
       "    </tr>\n",
       "  </thead>\n",
       "  <tbody>\n",
       "    <tr>\n",
       "      <th>121212</th>\n",
       "      <td>Alicia Keys featuring John Mayer</td>\n",
       "      <td>Logged In</td>\n",
       "      <td>Emilia</td>\n",
       "      <td>F</td>\n",
       "      <td>45</td>\n",
       "      <td>House</td>\n",
       "      <td>253.67465</td>\n",
       "      <td>paid</td>\n",
       "      <td>New York-Newark-Jersey City, NY-NJ-PA</td>\n",
       "      <td>PUT</td>\n",
       "      <td>NextSong</td>\n",
       "      <td>1538336771000</td>\n",
       "      <td>166</td>\n",
       "      <td>Lesson Learned</td>\n",
       "      <td>200</td>\n",
       "      <td>1539720833000</td>\n",
       "      <td>Mozilla/5.0 (compatible; MSIE 9.0; Windows NT ...</td>\n",
       "      <td>300011</td>\n",
       "      <td>0</td>\n",
       "    </tr>\n",
       "    <tr>\n",
       "      <th>80345</th>\n",
       "      <td>Interpol</td>\n",
       "      <td>Logged In</td>\n",
       "      <td>Parker</td>\n",
       "      <td>M</td>\n",
       "      <td>536</td>\n",
       "      <td>Williams</td>\n",
       "      <td>294.45179</td>\n",
       "      <td>paid</td>\n",
       "      <td>San Francisco-Oakland-Hayward, CA</td>\n",
       "      <td>PUT</td>\n",
       "      <td>NextSong</td>\n",
       "      <td>1537188538000</td>\n",
       "      <td>529</td>\n",
       "      <td>Take You On A Cruise</td>\n",
       "      <td>200</td>\n",
       "      <td>1539219520000</td>\n",
       "      <td>\"Mozilla/5.0 (iPhone; CPU iPhone OS 7_1_1 like...</td>\n",
       "      <td>61</td>\n",
       "      <td>0</td>\n",
       "    </tr>\n",
       "    <tr>\n",
       "      <th>212381</th>\n",
       "      <td>Lupe Fiasco feat. Biship G and Nikki Jean</td>\n",
       "      <td>Logged In</td>\n",
       "      <td>Sawyer</td>\n",
       "      <td>M</td>\n",
       "      <td>5</td>\n",
       "      <td>Nelson</td>\n",
       "      <td>245.86404</td>\n",
       "      <td>paid</td>\n",
       "      <td>Greenville-Anderson-Mauldin, SC</td>\n",
       "      <td>PUT</td>\n",
       "      <td>NextSong</td>\n",
       "      <td>1536679150000</td>\n",
       "      <td>102</td>\n",
       "      <td>Little Weapon (feat. Bishop G and Nikki Jean) ...</td>\n",
       "      <td>200</td>\n",
       "      <td>1539446855000</td>\n",
       "      <td>\"Mozilla/5.0 (Windows NT 6.1; WOW64) AppleWebK...</td>\n",
       "      <td>100023</td>\n",
       "      <td>1</td>\n",
       "    </tr>\n",
       "    <tr>\n",
       "      <th>122991</th>\n",
       "      <td>Lamb</td>\n",
       "      <td>Logged In</td>\n",
       "      <td>Emilia</td>\n",
       "      <td>F</td>\n",
       "      <td>71</td>\n",
       "      <td>House</td>\n",
       "      <td>287.63383</td>\n",
       "      <td>paid</td>\n",
       "      <td>New York-Newark-Jersey City, NY-NJ-PA</td>\n",
       "      <td>PUT</td>\n",
       "      <td>NextSong</td>\n",
       "      <td>1538336771000</td>\n",
       "      <td>297</td>\n",
       "      <td>Scratch Bass</td>\n",
       "      <td>200</td>\n",
       "      <td>1541142815000</td>\n",
       "      <td>Mozilla/5.0 (compatible; MSIE 9.0; Windows NT ...</td>\n",
       "      <td>300011</td>\n",
       "      <td>0</td>\n",
       "    </tr>\n",
       "    <tr>\n",
       "      <th>268743</th>\n",
       "      <td>Angels and Airwaves</td>\n",
       "      <td>Logged In</td>\n",
       "      <td>Connor</td>\n",
       "      <td>M</td>\n",
       "      <td>30</td>\n",
       "      <td>Mendoza</td>\n",
       "      <td>302.05342</td>\n",
       "      <td>free</td>\n",
       "      <td>San Diego-Carlsbad, CA</td>\n",
       "      <td>PUT</td>\n",
       "      <td>NextSong</td>\n",
       "      <td>1534175704000</td>\n",
       "      <td>195</td>\n",
       "      <td>The Gift</td>\n",
       "      <td>200</td>\n",
       "      <td>1540227653000</td>\n",
       "      <td>\"Mozilla/5.0 (iPhone; CPU iPhone OS 7_1_2 like...</td>\n",
       "      <td>200015</td>\n",
       "      <td>1</td>\n",
       "    </tr>\n",
       "    <tr>\n",
       "      <th>183490</th>\n",
       "      <td>matchbox twenty</td>\n",
       "      <td>Logged In</td>\n",
       "      <td>Deegan</td>\n",
       "      <td>M</td>\n",
       "      <td>51</td>\n",
       "      <td>Robinson</td>\n",
       "      <td>274.28526</td>\n",
       "      <td>paid</td>\n",
       "      <td>Hartford-West Hartford-East Hartford, CT</td>\n",
       "      <td>PUT</td>\n",
       "      <td>NextSong</td>\n",
       "      <td>1529252604000</td>\n",
       "      <td>907</td>\n",
       "      <td>If You're Gone (Remastered Version)</td>\n",
       "      <td>200</td>\n",
       "      <td>1540671869000</td>\n",
       "      <td>Mozilla/5.0 (Macintosh; Intel Mac OS X 10.9; r...</td>\n",
       "      <td>33</td>\n",
       "      <td>0</td>\n",
       "    </tr>\n",
       "    <tr>\n",
       "      <th>17151</th>\n",
       "      <td>Mack 10</td>\n",
       "      <td>Logged In</td>\n",
       "      <td>Sadie</td>\n",
       "      <td>F</td>\n",
       "      <td>324</td>\n",
       "      <td>Jones</td>\n",
       "      <td>61.85751</td>\n",
       "      <td>paid</td>\n",
       "      <td>Denver-Aurora-Lakewood, CO</td>\n",
       "      <td>PUT</td>\n",
       "      <td>NextSong</td>\n",
       "      <td>1537054553000</td>\n",
       "      <td>1892</td>\n",
       "      <td>Intro (Explicit)</td>\n",
       "      <td>200</td>\n",
       "      <td>1542185356000</td>\n",
       "      <td>\"Mozilla/5.0 (Macintosh; Intel Mac OS X 10_9_4...</td>\n",
       "      <td>132</td>\n",
       "      <td>0</td>\n",
       "    </tr>\n",
       "    <tr>\n",
       "      <th>108848</th>\n",
       "      <td>Justin Bieber</td>\n",
       "      <td>Logged In</td>\n",
       "      <td>Freedom</td>\n",
       "      <td>F</td>\n",
       "      <td>46</td>\n",
       "      <td>Aguilar</td>\n",
       "      <td>229.06730</td>\n",
       "      <td>paid</td>\n",
       "      <td>Charlotte-Concord-Gastonia, NC-SC</td>\n",
       "      <td>PUT</td>\n",
       "      <td>NextSong</td>\n",
       "      <td>1537034286000</td>\n",
       "      <td>1170</td>\n",
       "      <td>One Less Lonely Girl</td>\n",
       "      <td>200</td>\n",
       "      <td>1540369108000</td>\n",
       "      <td>\"Mozilla/5.0 (Macintosh; Intel Mac OS X 10_9_4...</td>\n",
       "      <td>136</td>\n",
       "      <td>0</td>\n",
       "    </tr>\n",
       "    <tr>\n",
       "      <th>104815</th>\n",
       "      <td>Dashboard Confessional</td>\n",
       "      <td>Logged In</td>\n",
       "      <td>Joshua</td>\n",
       "      <td>M</td>\n",
       "      <td>78</td>\n",
       "      <td>White</td>\n",
       "      <td>226.29832</td>\n",
       "      <td>paid</td>\n",
       "      <td>San Antonio-New Braunfels, TX</td>\n",
       "      <td>PUT</td>\n",
       "      <td>NextSong</td>\n",
       "      <td>1528780738000</td>\n",
       "      <td>372</td>\n",
       "      <td>Screaming Infidelities</td>\n",
       "      <td>200</td>\n",
       "      <td>1542228927000</td>\n",
       "      <td>\"Mozilla/5.0 (iPhone; CPU iPhone OS 7_1_2 like...</td>\n",
       "      <td>300015</td>\n",
       "      <td>0</td>\n",
       "    </tr>\n",
       "    <tr>\n",
       "      <th>163024</th>\n",
       "      <td>Anna Ternheim</td>\n",
       "      <td>Logged In</td>\n",
       "      <td>Katiana</td>\n",
       "      <td>F</td>\n",
       "      <td>37</td>\n",
       "      <td>Daniels</td>\n",
       "      <td>233.97832</td>\n",
       "      <td>paid</td>\n",
       "      <td>New York-Newark-Jersey City, NY-NJ-PA</td>\n",
       "      <td>PUT</td>\n",
       "      <td>NextSong</td>\n",
       "      <td>1537812949000</td>\n",
       "      <td>295</td>\n",
       "      <td>Bring Down Like I</td>\n",
       "      <td>200</td>\n",
       "      <td>1541513392000</td>\n",
       "      <td>\"Mozilla/5.0 (Windows NT 6.3; WOW64) AppleWebK...</td>\n",
       "      <td>200023</td>\n",
       "      <td>0</td>\n",
       "    </tr>\n",
       "  </tbody>\n",
       "</table>\n",
       "</div>"
      ],
      "text/plain": [
       "                                           artist       auth firstName gender  \\\n",
       "121212           Alicia Keys featuring John Mayer  Logged In    Emilia      F   \n",
       "80345                                    Interpol  Logged In    Parker      M   \n",
       "212381  Lupe Fiasco feat. Biship G and Nikki Jean  Logged In    Sawyer      M   \n",
       "122991                                       Lamb  Logged In    Emilia      F   \n",
       "268743                        Angels and Airwaves  Logged In    Connor      M   \n",
       "183490                            matchbox twenty  Logged In    Deegan      M   \n",
       "17151                                     Mack 10  Logged In     Sadie      F   \n",
       "108848                              Justin Bieber  Logged In   Freedom      F   \n",
       "104815                     Dashboard Confessional  Logged In    Joshua      M   \n",
       "163024                              Anna Ternheim  Logged In   Katiana      F   \n",
       "\n",
       "        itemInSession  lastName     length level  \\\n",
       "121212             45     House  253.67465  paid   \n",
       "80345             536  Williams  294.45179  paid   \n",
       "212381              5    Nelson  245.86404  paid   \n",
       "122991             71     House  287.63383  paid   \n",
       "268743             30   Mendoza  302.05342  free   \n",
       "183490             51  Robinson  274.28526  paid   \n",
       "17151             324     Jones   61.85751  paid   \n",
       "108848             46   Aguilar  229.06730  paid   \n",
       "104815             78     White  226.29832  paid   \n",
       "163024             37   Daniels  233.97832  paid   \n",
       "\n",
       "                                        location method      page  \\\n",
       "121212     New York-Newark-Jersey City, NY-NJ-PA    PUT  NextSong   \n",
       "80345          San Francisco-Oakland-Hayward, CA    PUT  NextSong   \n",
       "212381           Greenville-Anderson-Mauldin, SC    PUT  NextSong   \n",
       "122991     New York-Newark-Jersey City, NY-NJ-PA    PUT  NextSong   \n",
       "268743                    San Diego-Carlsbad, CA    PUT  NextSong   \n",
       "183490  Hartford-West Hartford-East Hartford, CT    PUT  NextSong   \n",
       "17151                 Denver-Aurora-Lakewood, CO    PUT  NextSong   \n",
       "108848         Charlotte-Concord-Gastonia, NC-SC    PUT  NextSong   \n",
       "104815             San Antonio-New Braunfels, TX    PUT  NextSong   \n",
       "163024     New York-Newark-Jersey City, NY-NJ-PA    PUT  NextSong   \n",
       "\n",
       "         registration  sessionId  \\\n",
       "121212  1538336771000        166   \n",
       "80345   1537188538000        529   \n",
       "212381  1536679150000        102   \n",
       "122991  1538336771000        297   \n",
       "268743  1534175704000        195   \n",
       "183490  1529252604000        907   \n",
       "17151   1537054553000       1892   \n",
       "108848  1537034286000       1170   \n",
       "104815  1528780738000        372   \n",
       "163024  1537812949000        295   \n",
       "\n",
       "                                                     song  status  \\\n",
       "121212                                     Lesson Learned     200   \n",
       "80345                                Take You On A Cruise     200   \n",
       "212381  Little Weapon (feat. Bishop G and Nikki Jean) ...     200   \n",
       "122991                                       Scratch Bass     200   \n",
       "268743                                           The Gift     200   \n",
       "183490                If You're Gone (Remastered Version)     200   \n",
       "17151                                    Intro (Explicit)     200   \n",
       "108848                               One Less Lonely Girl     200   \n",
       "104815                             Screaming Infidelities     200   \n",
       "163024                                  Bring Down Like I     200   \n",
       "\n",
       "                   ts                                          userAgent  \\\n",
       "121212  1539720833000  Mozilla/5.0 (compatible; MSIE 9.0; Windows NT ...   \n",
       "80345   1539219520000  \"Mozilla/5.0 (iPhone; CPU iPhone OS 7_1_1 like...   \n",
       "212381  1539446855000  \"Mozilla/5.0 (Windows NT 6.1; WOW64) AppleWebK...   \n",
       "122991  1541142815000  Mozilla/5.0 (compatible; MSIE 9.0; Windows NT ...   \n",
       "268743  1540227653000  \"Mozilla/5.0 (iPhone; CPU iPhone OS 7_1_2 like...   \n",
       "183490  1540671869000  Mozilla/5.0 (Macintosh; Intel Mac OS X 10.9; r...   \n",
       "17151   1542185356000  \"Mozilla/5.0 (Macintosh; Intel Mac OS X 10_9_4...   \n",
       "108848  1540369108000  \"Mozilla/5.0 (Macintosh; Intel Mac OS X 10_9_4...   \n",
       "104815  1542228927000  \"Mozilla/5.0 (iPhone; CPU iPhone OS 7_1_2 like...   \n",
       "163024  1541513392000  \"Mozilla/5.0 (Windows NT 6.3; WOW64) AppleWebK...   \n",
       "\n",
       "        userId  churn  \n",
       "121212  300011      0  \n",
       "80345       61      0  \n",
       "212381  100023      1  \n",
       "122991  300011      0  \n",
       "268743  200015      1  \n",
       "183490      33      0  \n",
       "17151      132      0  \n",
       "108848     136      0  \n",
       "104815  300015      0  \n",
       "163024  200023      0  "
      ]
     },
     "execution_count": 19,
     "metadata": {},
     "output_type": "execute_result"
    }
   ],
   "source": [
    "dfp.sample(10)"
   ]
  },
  {
   "cell_type": "markdown",
   "metadata": {},
   "source": [
    "## Explore\n",
    "\n",
    "\n",
    "Once you've defined churn, perform some exploratory data analysis to observe the behavior for users who stayed vs users who churned. You can start by exploring aggregates on these two groups of users, observing how much of a specific action they experienced per a certain time unit or number of songs played."
   ]
  },
  {
   "cell_type": "code",
   "execution_count": 20,
   "metadata": {},
   "outputs": [
    {
     "data": {
      "text/plain": [
       "churn\n",
       "0    173\n",
       "1     52\n",
       "Name: userId, dtype: int64"
      ]
     },
     "execution_count": 20,
     "metadata": {},
     "output_type": "execute_result"
    }
   ],
   "source": [
    "# finding number of users who cancelled and remain\n",
    "dfp.drop_duplicates(subset='userId').groupby(['churn'])['userId'].count()"
   ]
  },
  {
   "cell_type": "code",
   "execution_count": 21,
   "metadata": {},
   "outputs": [
    {
     "name": "stdout",
     "output_type": "stream",
     "text": [
      "+-----+-----+\n",
      "|churn|count|\n",
      "+-----+-----+\n",
      "|    0|  173|\n",
      "|    1|   52|\n",
      "+-----+-----+\n",
      "\n"
     ]
    }
   ],
   "source": [
    "# by spark\n",
    "df.dropDuplicates(['userId']).groupby(['churn']).count().show()"
   ]
  },
  {
   "cell_type": "code",
   "execution_count": 22,
   "metadata": {},
   "outputs": [
    {
     "name": "stdout",
     "output_type": "stream",
     "text": [
      "+-----+------+-----+\n",
      "|churn|gender|count|\n",
      "+-----+------+-----+\n",
      "|    0|     F|   84|\n",
      "|    1|     M|   32|\n",
      "|    1|     F|   20|\n",
      "|    0|     M|   89|\n",
      "+-----+------+-----+\n",
      "\n"
     ]
    }
   ],
   "source": [
    "# by gender status\n",
    "df.dropDuplicates(['userId', 'gender']).groupby(['churn', 'gender']).count().show()"
   ]
  },
  {
   "cell_type": "code",
   "execution_count": 23,
   "metadata": {},
   "outputs": [
    {
     "name": "stdout",
     "output_type": "stream",
     "text": [
      "+-----+-----+-----+\n",
      "|churn|level|count|\n",
      "+-----+-----+-----+\n",
      "|    1| paid|   36|\n",
      "|    1| free|   46|\n",
      "|    0| free|  149|\n",
      "|    0| paid|  129|\n",
      "+-----+-----+-----+\n",
      "\n"
     ]
    }
   ],
   "source": [
    "# by paid status\n",
    "df.dropDuplicates(['userId', 'level']).groupby(['churn', 'level']).count().show()"
   ]
  },
  {
   "cell_type": "code",
   "execution_count": 24,
   "metadata": {},
   "outputs": [
    {
     "data": {
      "image/png": "[encoded data removed]",
      "text/plain": [
       "<matplotlib.figure.Figure at 0x7f6666b67780>"
      ]
     },
     "metadata": {
      "needs_background": "light"
     },
     "output_type": "display_data"
    }
   ],
   "source": [
    "def plot_frequency(subset, group, labels, x_title=\"Number of Users\", y_title=\"Subscription Type\"):\n",
    "    ax = dfp.drop_duplicates(subset=subset).groupby(\n",
    "                                group)['userId'].count().plot(\n",
    "                                kind='barh', figsize=(8,5), \n",
    "                                title='Number of unique users per Subscription type');\n",
    "    ax.set_xlabel(x_title);\n",
    "    ax.set_yticklabels(labels, rotation=0)\n",
    "    ax.set_ylabel(y_title);\n",
    "\n",
    "# Test    \n",
    "plot_frequency(['userId'], ['churn'], ['Active', 'Cancelled'])"
   ]
  },
  {
   "cell_type": "markdown",
   "metadata": {},
   "source": [
    "Observed ~30% of the users cancelled"
   ]
  },
  {
   "cell_type": "code",
   "execution_count": 25,
   "metadata": {},
   "outputs": [
    {
     "data": {
      "image/png": "[encoded data removed]",
      "text/plain": [
       "<matplotlib.figure.Figure at 0x7f66705c5630>"
      ]
     },
     "metadata": {
      "needs_background": "light"
     },
     "output_type": "display_data"
    }
   ],
   "source": [
    "## plot gender status churn by subscription category\n",
    "plot_frequency(['userId', 'gender'], \n",
    "               ['gender', 'churn'], \n",
    "               ['Active-Female', 'Cancelled-Female', 'Active-Male', 'Cancelled-Male'])"
   ]
  },
  {
   "cell_type": "markdown",
   "metadata": {},
   "source": [
    "Males are cancelling the subscription than females."
   ]
  },
  {
   "cell_type": "code",
   "execution_count": 26,
   "metadata": {},
   "outputs": [
    {
     "data": {
      "image/png": "[encoded data removed]",
      "text/plain": [
       "<matplotlib.figure.Figure at 0x7f6675cd5eb8>"
      ]
     },
     "metadata": {
      "needs_background": "light"
     },
     "output_type": "display_data"
    }
   ],
   "source": [
    "## plot by paid and free subscribers to understand the impact\n",
    "plot_frequency(['userId', 'level'], \n",
    "               ['level', 'churn'], \n",
    "               ['Active-Free', 'Cancelled-Free', 'Active-Paid', 'Cancelled-Paid'])"
   ]
  },
  {
   "cell_type": "markdown",
   "metadata": {},
   "source": [
    "Observed that paid or free subscription account types really does not influence the cancellation. The ratio between free and paid are negligible."
   ]
  },
  {
   "cell_type": "markdown",
   "metadata": {},
   "source": [
    "## Impact of Time"
   ]
  },
  {
   "cell_type": "code",
   "execution_count": 28,
   "metadata": {},
   "outputs": [],
   "source": [
    "# Defining user functions to get hour, day, month, and weekday of cancellation\n",
    "\n",
    "get_hour = udf(lambda x: datetime.datetime.fromtimestamp(x / 1000.0).hour)\n",
    "get_day = udf(lambda x: datetime.datetime.fromtimestamp(x / 1000.0).day)\n",
    "get_month = udf(lambda x: datetime.datetime.fromtimestamp(x / 1000.0).month)\n",
    "\n",
    "# Source https://stackoverflow.com/questions/38928919/how-to-get-the-weekday-from-day-of-month-using-pyspark\n",
    "get_weekday = udf(lambda x: datetime.datetime.fromtimestamp(x / 1000.0).strftime('%w'))"
   ]
  },
  {
   "cell_type": "code",
   "execution_count": 29,
   "metadata": {},
   "outputs": [
    {
     "name": "stdout",
     "output_type": "stream",
     "text": [
      "Column hour added successfully.\n",
      "Column day added successfully.\n",
      "Column month added successfully.\n",
      "Column week_day added successfully.\n"
     ]
    }
   ],
   "source": [
    "# Adding columns to the frameowrk\n",
    "funcs = {'hour':get_hour, 'day':get_day, 'month':get_month, 'week_day':get_weekday}\n",
    "for label, func in funcs.items():\n",
    "    df = df.withColumn(label, func(df.ts))\n",
    "    print(f'Column {label} added successfully.')"
   ]
  },
  {
   "cell_type": "code",
   "execution_count": 30,
   "metadata": {},
   "outputs": [
    {
     "data": {
      "text/html": [
       "<div>\n",
       "<style scoped>\n",
       "    .dataframe tbody tr th:only-of-type {\n",
       "        vertical-align: middle;\n",
       "    }\n",
       "\n",
       "    .dataframe tbody tr th {\n",
       "        vertical-align: top;\n",
       "    }\n",
       "\n",
       "    .dataframe thead th {\n",
       "        text-align: right;\n",
       "    }\n",
       "</style>\n",
       "<table border=\"1\" class=\"dataframe\">\n",
       "  <thead>\n",
       "    <tr style=\"text-align: right;\">\n",
       "      <th></th>\n",
       "      <th>artist</th>\n",
       "      <th>auth</th>\n",
       "      <th>firstName</th>\n",
       "      <th>gender</th>\n",
       "      <th>itemInSession</th>\n",
       "      <th>lastName</th>\n",
       "      <th>length</th>\n",
       "      <th>level</th>\n",
       "      <th>location</th>\n",
       "      <th>method</th>\n",
       "      <th>...</th>\n",
       "      <th>song</th>\n",
       "      <th>status</th>\n",
       "      <th>ts</th>\n",
       "      <th>userAgent</th>\n",
       "      <th>userId</th>\n",
       "      <th>churn</th>\n",
       "      <th>hour</th>\n",
       "      <th>day</th>\n",
       "      <th>month</th>\n",
       "      <th>week_day</th>\n",
       "    </tr>\n",
       "  </thead>\n",
       "  <tbody>\n",
       "    <tr>\n",
       "      <th>276607</th>\n",
       "      <td>Skillet</td>\n",
       "      <td>Logged In</td>\n",
       "      <td>Liliana</td>\n",
       "      <td>F</td>\n",
       "      <td>151</td>\n",
       "      <td>Owen</td>\n",
       "      <td>230.42567</td>\n",
       "      <td>paid</td>\n",
       "      <td>Detroit-Warren-Dearborn, MI</td>\n",
       "      <td>PUT</td>\n",
       "      <td>...</td>\n",
       "      <td>Comatose (Album Version)</td>\n",
       "      <td>200</td>\n",
       "      <td>1539644932000</td>\n",
       "      <td>Mozilla/5.0 (Macintosh; Intel Mac OS X 10.7; r...</td>\n",
       "      <td>200021</td>\n",
       "      <td>1</td>\n",
       "      <td>23</td>\n",
       "      <td>15</td>\n",
       "      <td>10</td>\n",
       "      <td>1</td>\n",
       "    </tr>\n",
       "    <tr>\n",
       "      <th>113965</th>\n",
       "      <td>Kevin Blechdom</td>\n",
       "      <td>Logged In</td>\n",
       "      <td>Bryson</td>\n",
       "      <td>M</td>\n",
       "      <td>150</td>\n",
       "      <td>Roberson</td>\n",
       "      <td>222.56281</td>\n",
       "      <td>paid</td>\n",
       "      <td>Houston-The Woodlands-Sugar Land, TX</td>\n",
       "      <td>PUT</td>\n",
       "      <td>...</td>\n",
       "      <td>Running Away</td>\n",
       "      <td>200</td>\n",
       "      <td>1540233854000</td>\n",
       "      <td>\"Mozilla/5.0 (Macintosh; Intel Mac OS X 10_9_4...</td>\n",
       "      <td>6</td>\n",
       "      <td>0</td>\n",
       "      <td>18</td>\n",
       "      <td>22</td>\n",
       "      <td>10</td>\n",
       "      <td>1</td>\n",
       "    </tr>\n",
       "    <tr>\n",
       "      <th>151455</th>\n",
       "      <td>Breathe Carolina</td>\n",
       "      <td>Logged In</td>\n",
       "      <td>Annabella</td>\n",
       "      <td>F</td>\n",
       "      <td>57</td>\n",
       "      <td>Knapp</td>\n",
       "      <td>202.03057</td>\n",
       "      <td>free</td>\n",
       "      <td>San Antonio-New Braunfels, TX</td>\n",
       "      <td>PUT</td>\n",
       "      <td>...</td>\n",
       "      <td>Hello Fascination</td>\n",
       "      <td>200</td>\n",
       "      <td>1538941623000</td>\n",
       "      <td>Mozilla/5.0 (Windows NT 6.3; WOW64; rv:31.0) G...</td>\n",
       "      <td>40</td>\n",
       "      <td>0</td>\n",
       "      <td>19</td>\n",
       "      <td>7</td>\n",
       "      <td>10</td>\n",
       "      <td>0</td>\n",
       "    </tr>\n",
       "    <tr>\n",
       "      <th>6667</th>\n",
       "      <td>None</td>\n",
       "      <td>Logged In</td>\n",
       "      <td>Ethan</td>\n",
       "      <td>M</td>\n",
       "      <td>372</td>\n",
       "      <td>Johnson</td>\n",
       "      <td>NaN</td>\n",
       "      <td>paid</td>\n",
       "      <td>Lexington-Fayette, KY</td>\n",
       "      <td>GET</td>\n",
       "      <td>...</td>\n",
       "      <td>None</td>\n",
       "      <td>200</td>\n",
       "      <td>1538781754000</td>\n",
       "      <td>\"Mozilla/5.0 (Windows NT 6.1; WOW64) AppleWebK...</td>\n",
       "      <td>51</td>\n",
       "      <td>1</td>\n",
       "      <td>23</td>\n",
       "      <td>5</td>\n",
       "      <td>10</td>\n",
       "      <td>5</td>\n",
       "    </tr>\n",
       "    <tr>\n",
       "      <th>223042</th>\n",
       "      <td>Eminem / Dr. Dre / 50 Cent</td>\n",
       "      <td>Logged In</td>\n",
       "      <td>Brycen</td>\n",
       "      <td>M</td>\n",
       "      <td>63</td>\n",
       "      <td>Bradley</td>\n",
       "      <td>297.56036</td>\n",
       "      <td>paid</td>\n",
       "      <td>Laurel, MS</td>\n",
       "      <td>PUT</td>\n",
       "      <td>...</td>\n",
       "      <td>Crack A Bottle</td>\n",
       "      <td>200</td>\n",
       "      <td>1542625297000</td>\n",
       "      <td>\"Mozilla/5.0 (Macintosh; Intel Mac OS X 10_9_4...</td>\n",
       "      <td>10</td>\n",
       "      <td>0</td>\n",
       "      <td>11</td>\n",
       "      <td>19</td>\n",
       "      <td>11</td>\n",
       "      <td>1</td>\n",
       "    </tr>\n",
       "  </tbody>\n",
       "</table>\n",
       "<p>5 rows × 23 columns</p>\n",
       "</div>"
      ],
      "text/plain": [
       "                            artist       auth  firstName gender  \\\n",
       "276607                     Skillet  Logged In    Liliana      F   \n",
       "113965              Kevin Blechdom  Logged In     Bryson      M   \n",
       "151455            Breathe Carolina  Logged In  Annabella      F   \n",
       "6667                          None  Logged In      Ethan      M   \n",
       "223042  Eminem / Dr. Dre / 50 Cent  Logged In     Brycen      M   \n",
       "\n",
       "        itemInSession  lastName     length level  \\\n",
       "276607            151      Owen  230.42567  paid   \n",
       "113965            150  Roberson  222.56281  paid   \n",
       "151455             57     Knapp  202.03057  free   \n",
       "6667              372   Johnson        NaN  paid   \n",
       "223042             63   Bradley  297.56036  paid   \n",
       "\n",
       "                                    location method   ...     \\\n",
       "276607           Detroit-Warren-Dearborn, MI    PUT   ...      \n",
       "113965  Houston-The Woodlands-Sugar Land, TX    PUT   ...      \n",
       "151455         San Antonio-New Braunfels, TX    PUT   ...      \n",
       "6667                   Lexington-Fayette, KY    GET   ...      \n",
       "223042                            Laurel, MS    PUT   ...      \n",
       "\n",
       "                            song  status             ts  \\\n",
       "276607  Comatose (Album Version)     200  1539644932000   \n",
       "113965              Running Away     200  1540233854000   \n",
       "151455         Hello Fascination     200  1538941623000   \n",
       "6667                        None     200  1538781754000   \n",
       "223042            Crack A Bottle     200  1542625297000   \n",
       "\n",
       "                                                userAgent  userId  churn hour  \\\n",
       "276607  Mozilla/5.0 (Macintosh; Intel Mac OS X 10.7; r...  200021      1   23   \n",
       "113965  \"Mozilla/5.0 (Macintosh; Intel Mac OS X 10_9_4...       6      0   18   \n",
       "151455  Mozilla/5.0 (Windows NT 6.3; WOW64; rv:31.0) G...      40      0   19   \n",
       "6667    \"Mozilla/5.0 (Windows NT 6.1; WOW64) AppleWebK...      51      1   23   \n",
       "223042  \"Mozilla/5.0 (Macintosh; Intel Mac OS X 10_9_4...      10      0   11   \n",
       "\n",
       "       day  month week_day  \n",
       "276607  15     10        1  \n",
       "113965  22     10        1  \n",
       "151455   7     10        0  \n",
       "6667     5     10        5  \n",
       "223042  19     11        1  \n",
       "\n",
       "[5 rows x 23 columns]"
      ]
     },
     "execution_count": 30,
     "metadata": {},
     "output_type": "execute_result"
    }
   ],
   "source": [
    "# for plotting visuals\n",
    "dfp = df.toPandas()\n",
    "dfp.sample(5)"
   ]
  },
  {
   "cell_type": "code",
   "execution_count": 33,
   "metadata": {},
   "outputs": [],
   "source": [
    "def get_series(col, churn, normalize=False):\n",
    "    ''' \n",
    "    Get a series either of churn users or existing users\n",
    "    THe function can normalize the series and return a percent value\n",
    "    col: {str} the column to plot (hour, month, day, week_day)\n",
    "    churn: {int} 0 or 1\n",
    "    normalize: {bool} T/F, Default is False\n",
    "    return a sorted pandas series\n",
    "    '''\n",
    "    ser1 = dfp[dfp.churn == churn].groupby([col])['userId'].count()\n",
    "    try:\n",
    "        ser1.index = ser1.index.astype(int)\n",
    "    except:\n",
    "        pass\n",
    "    if normalize:\n",
    "        ser1=ser1/ser1.sum()*100\n",
    "    return ser1.sort_index()"
   ]
  },
  {
   "cell_type": "code",
   "execution_count": 34,
   "metadata": {},
   "outputs": [],
   "source": [
    "def draw_time(col, normalize=True, figsize=(16,4), title=None, label_rotation=0):\n",
    "    '''\n",
    "    Draw a bar plot for churn and existing users based on \n",
    "         a specific column (hour, month, day, week_day)\n",
    "         \n",
    "    normalize: {bool} T/F, Default is True\n",
    "    figsize: {tuple} the plot size, default is (16,4)\n",
    "    title: descriptive title part\n",
    "    Returns: None\n",
    "    '''\n",
    "    df_time = pd.DataFrame({'Cancelled': get_series(col, 1, normalize),\n",
    "                            'Active users':get_series(col, 0, normalize)})\n",
    "    ax = df_time.plot(kind='bar', figsize=figsize);\n",
    "    ax.set_ylabel('Percentage of users')\n",
    "    if title is None:\n",
    "        title = col\n",
    "    ax.set_ylabel(f'Percentage of users')\n",
    "    #print(ax.get_xticks())\n",
    "    ax.set_xticklabels(ax.get_xticklabels(), rotation=label_rotation)\n",
    "    ax.set_title(f'Percentage of users taken action per {title}') \n",
    "    return ax"
   ]
  },
  {
   "cell_type": "code",
   "execution_count": 36,
   "metadata": {},
   "outputs": [
    {
     "data": {
      "image/png": "[encoded data removed]",
      "text/plain": [
       "<matplotlib.figure.Figure at 0x7f6669344da0>"
      ]
     },
     "metadata": {
      "needs_background": "light"
     },
     "output_type": "display_data"
    }
   ],
   "source": [
    "draw_time('hour', title='hour in the day');"
   ]
  },
  {
   "cell_type": "markdown",
   "metadata": {},
   "source": [
    "Observed that more users are cancelling during 13:00 hrs to 20:00 hrs in a day"
   ]
  },
  {
   "cell_type": "code",
   "execution_count": 37,
   "metadata": {},
   "outputs": [
    {
     "data": {
      "image/png": "[encoded data removed]",
      "text/plain": [
       "<matplotlib.figure.Figure at 0x7f667bb6c4e0>"
      ]
     },
     "metadata": {
      "needs_background": "light"
     },
     "output_type": "display_data"
    }
   ],
   "source": [
    "draw_time('day', title='day of the month');"
   ]
  },
  {
   "cell_type": "code",
   "execution_count": 38,
   "metadata": {
    "scrolled": true
   },
   "outputs": [
    {
     "data": {
      "image/png": "[encoded data removed]",
      "text/plain": [
       "<matplotlib.figure.Figure at 0x7f667f24df28>"
      ]
     },
     "metadata": {
      "needs_background": "light"
     },
     "output_type": "display_data"
    }
   ],
   "source": [
    "ax = draw_time('week_day', title='week day')\n",
    "ax.set_xticklabels(['Mon', 'Tue', 'Wed', 'Thu', 'Fri', 'Sat', 'Sun'], rotation=0);"
   ]
  },
  {
   "cell_type": "markdown",
   "metadata": {},
   "source": [
    "It is visible that on Friday and Saturday, the churn users are extra, while the remaining users are more active Monday."
   ]
  },
  {
   "cell_type": "markdown",
   "metadata": {},
   "source": [
    "## Few categoric features\n",
    "\n",
    "I will try to investigate the effect by user agents such as windows,mac and linux"
   ]
  },
  {
   "cell_type": "code",
   "execution_count": 39,
   "metadata": {},
   "outputs": [
    {
     "data": {
      "text/plain": [
       "56"
      ]
     },
     "execution_count": 39,
     "metadata": {},
     "output_type": "execute_result"
    }
   ],
   "source": [
    "dfp.userAgent.unique().shape[0]"
   ]
  },
  {
   "cell_type": "code",
   "execution_count": 40,
   "metadata": {},
   "outputs": [
    {
     "data": {
      "text/plain": [
       "['\"Mozilla/5.0 (iPhone; CPU iPhone OS 7_1_2 like Mac OS X) AppleWebKit/537.51.2 (KHTML, like Gecko) Version/7.0 Mobile/11D257 Safari/9537.53\"',\n",
       " '\"Mozilla/5.0 (Macintosh; Intel Mac OS X 10_9_4) AppleWebKit/537.36 (KHTML, like Gecko) Chrome/36.0.1985.125 Safari/537.36\"',\n",
       " '\"Mozilla/5.0 (Windows NT 6.1; WOW64) AppleWebKit/537.36 (KHTML, like Gecko) Chrome/36.0.1985.143 Safari/537.36\"',\n",
       " '\"Mozilla/5.0 (iPad; CPU OS 7_1_1 like Mac OS X) AppleWebKit/537.51.2 (KHTML, like Gecko) Version/7.0 Mobile/11D201 Safari/9537.53\"']"
      ]
     },
     "execution_count": 40,
     "metadata": {},
     "output_type": "execute_result"
    }
   ],
   "source": [
    "agents = [x.strip() for x  in dfp.userAgent.unique()] \n",
    "# see sample\n",
    "[agents[x] for x in [0, 2, 4, 10]]"
   ]
  },
  {
   "cell_type": "code",
   "execution_count": 41,
   "metadata": {},
   "outputs": [
    {
     "data": {
      "text/plain": [
       "['Compatible',\n",
       " 'Ipad',\n",
       " 'Iphone',\n",
       " 'Macintosh',\n",
       " 'Windows nt 5.1',\n",
       " 'Windows nt 6.0',\n",
       " 'Windows nt 6.1',\n",
       " 'Windows nt 6.2',\n",
       " 'Windows nt 6.3',\n",
       " 'X11']"
      ]
     },
     "execution_count": 41,
     "metadata": {},
     "output_type": "execute_result"
    }
   ],
   "source": [
    "# TO get the data between parenthesis\n",
    "ex = '\\(([^\\)]*)\\)'\n",
    "\n",
    "# All OSs\n",
    "sorted(list(set([re.findall(\n",
    "    ex, x)[0].split(';')[0].capitalize(\n",
    ") for x  in agents])))"
   ]
  },
  {
   "cell_type": "code",
   "execution_count": 44,
   "metadata": {},
   "outputs": [
    {
     "name": "stdout",
     "output_type": "stream",
     "text": [
      "['Linux', 'Mac', 'Windows'] ['Linux', 'MacOS', 'Windows 7', 'Windows 8.0', 'Windows 8.1', 'Windows Vista', 'Windows XP', 'iPad', 'iPhone']\n"
     ]
    }
   ],
   "source": [
    "# Create mappers for the os\n",
    "mapper_general = {'Compatible': 'Windows',  'Ipad': 'Mac',  'Iphone': 'Mac',  \n",
    "          'Macintosh': 'Mac',  'Windows nt 5.1': 'Windows',  \n",
    "          'Windows nt 6.0': 'Windows',  'Windows nt 6.1': 'Windows',  \n",
    "          'Windows nt 6.2': 'Windows',  'Windows nt 6.3': 'Windows',  \n",
    "          'X11': 'Linux'}\n",
    "mapper_specific = {'Compatible': 'Windows 7',  'Ipad': 'iPad',  'Iphone': 'iPhone',  \n",
    "          'Macintosh': 'MacOS',  'Windows nt 5.1': 'Windows XP',  \n",
    "          'Windows nt 6.0': 'Windows Vista',  'Windows nt 6.1': 'Windows 7',  \n",
    "          'Windows nt 6.2': 'Windows 8.0',  'Windows nt 6.3': 'Windows 8.1',  \n",
    "          'X11': 'Linux'}\n",
    "print(sorted(list(set([mapper_general[re.findall(ex, x)[0].split(';')[0].capitalize()] for x  in agents]))),\n",
    "sorted(list(set([mapper_specific[re.findall(ex, x)[0].split(';')[0].capitalize()] for x  in agents]))))"
   ]
  },
  {
   "cell_type": "code",
   "execution_count": 45,
   "metadata": {},
   "outputs": [],
   "source": [
    "# Define user defined functions\n",
    "os_general = udf(lambda x: mapper_general[re.findall(ex, x)[0].split(';')[0].capitalize()])\n",
    "df = df.withColumn(\"os_general\", os_general(df.userAgent))\n",
    "\n",
    "os_specific = udf(lambda x: mapper_specific[re.findall(ex, x)[0].split(';')[0].capitalize()])\n",
    "df = df.withColumn(\"os_specific\", os_specific(df.userAgent))"
   ]
  },
  {
   "cell_type": "code",
   "execution_count": 46,
   "metadata": {},
   "outputs": [
    {
     "data": {
      "text/html": [
       "<div>\n",
       "<style scoped>\n",
       "    .dataframe tbody tr th:only-of-type {\n",
       "        vertical-align: middle;\n",
       "    }\n",
       "\n",
       "    .dataframe tbody tr th {\n",
       "        vertical-align: top;\n",
       "    }\n",
       "\n",
       "    .dataframe thead th {\n",
       "        text-align: right;\n",
       "    }\n",
       "</style>\n",
       "<table border=\"1\" class=\"dataframe\">\n",
       "  <thead>\n",
       "    <tr style=\"text-align: right;\">\n",
       "      <th></th>\n",
       "      <th>artist</th>\n",
       "      <th>auth</th>\n",
       "      <th>firstName</th>\n",
       "      <th>gender</th>\n",
       "      <th>itemInSession</th>\n",
       "      <th>lastName</th>\n",
       "      <th>length</th>\n",
       "      <th>level</th>\n",
       "      <th>location</th>\n",
       "      <th>method</th>\n",
       "      <th>...</th>\n",
       "      <th>ts</th>\n",
       "      <th>userAgent</th>\n",
       "      <th>userId</th>\n",
       "      <th>churn</th>\n",
       "      <th>hour</th>\n",
       "      <th>day</th>\n",
       "      <th>month</th>\n",
       "      <th>week_day</th>\n",
       "      <th>os_general</th>\n",
       "      <th>os_specific</th>\n",
       "    </tr>\n",
       "  </thead>\n",
       "  <tbody>\n",
       "    <tr>\n",
       "      <th>122704</th>\n",
       "      <td>Guildo Horn</td>\n",
       "      <td>Logged In</td>\n",
       "      <td>Emilia</td>\n",
       "      <td>F</td>\n",
       "      <td>138</td>\n",
       "      <td>House</td>\n",
       "      <td>240.37832</td>\n",
       "      <td>paid</td>\n",
       "      <td>New York-Newark-Jersey City, NY-NJ-PA</td>\n",
       "      <td>PUT</td>\n",
       "      <td>...</td>\n",
       "      <td>1540943556000</td>\n",
       "      <td>Mozilla/5.0 (compatible; MSIE 9.0; Windows NT ...</td>\n",
       "      <td>300011</td>\n",
       "      <td>0</td>\n",
       "      <td>23</td>\n",
       "      <td>30</td>\n",
       "      <td>10</td>\n",
       "      <td>2</td>\n",
       "      <td>Windows</td>\n",
       "      <td>Windows 7</td>\n",
       "    </tr>\n",
       "    <tr>\n",
       "      <th>273368</th>\n",
       "      <td>Superbus</td>\n",
       "      <td>Logged In</td>\n",
       "      <td>Lorelei</td>\n",
       "      <td>F</td>\n",
       "      <td>138</td>\n",
       "      <td>Silva</td>\n",
       "      <td>192.31302</td>\n",
       "      <td>paid</td>\n",
       "      <td>Pittsburgh, PA</td>\n",
       "      <td>PUT</td>\n",
       "      <td>...</td>\n",
       "      <td>1543330485000</td>\n",
       "      <td>\"Mozilla/5.0 (X11; Linux x86_64) AppleWebKit/5...</td>\n",
       "      <td>145</td>\n",
       "      <td>0</td>\n",
       "      <td>14</td>\n",
       "      <td>27</td>\n",
       "      <td>11</td>\n",
       "      <td>2</td>\n",
       "      <td>Linux</td>\n",
       "      <td>Linux</td>\n",
       "    </tr>\n",
       "    <tr>\n",
       "      <th>8970</th>\n",
       "      <td>A Day To Remember</td>\n",
       "      <td>Logged In</td>\n",
       "      <td>Panav</td>\n",
       "      <td>M</td>\n",
       "      <td>29</td>\n",
       "      <td>Myers</td>\n",
       "      <td>243.22567</td>\n",
       "      <td>paid</td>\n",
       "      <td>Morgantown, WV</td>\n",
       "      <td>PUT</td>\n",
       "      <td>...</td>\n",
       "      <td>1539009766000</td>\n",
       "      <td>\"Mozilla/5.0 (Windows NT 6.1; WOW64) AppleWebK...</td>\n",
       "      <td>15</td>\n",
       "      <td>0</td>\n",
       "      <td>14</td>\n",
       "      <td>8</td>\n",
       "      <td>10</td>\n",
       "      <td>1</td>\n",
       "      <td>Windows</td>\n",
       "      <td>Windows 7</td>\n",
       "    </tr>\n",
       "    <tr>\n",
       "      <th>125925</th>\n",
       "      <td>Various Artists - Delicious Vinyl</td>\n",
       "      <td>Logged In</td>\n",
       "      <td>Emily</td>\n",
       "      <td>F</td>\n",
       "      <td>8</td>\n",
       "      <td>Fisher</td>\n",
       "      <td>264.25424</td>\n",
       "      <td>free</td>\n",
       "      <td>Syracuse, NY</td>\n",
       "      <td>PUT</td>\n",
       "      <td>...</td>\n",
       "      <td>1541412638000</td>\n",
       "      <td>Mozilla/5.0 (compatible; MSIE 9.0; Windows NT ...</td>\n",
       "      <td>100004</td>\n",
       "      <td>0</td>\n",
       "      <td>10</td>\n",
       "      <td>5</td>\n",
       "      <td>11</td>\n",
       "      <td>1</td>\n",
       "      <td>Windows</td>\n",
       "      <td>Windows 7</td>\n",
       "    </tr>\n",
       "    <tr>\n",
       "      <th>193224</th>\n",
       "      <td>Canned Heat</td>\n",
       "      <td>Logged In</td>\n",
       "      <td>Jayleen</td>\n",
       "      <td>F</td>\n",
       "      <td>288</td>\n",
       "      <td>Reed</td>\n",
       "      <td>289.46240</td>\n",
       "      <td>paid</td>\n",
       "      <td>Riverside-San Bernardino-Ontario, CA</td>\n",
       "      <td>PUT</td>\n",
       "      <td>...</td>\n",
       "      <td>1542268387000</td>\n",
       "      <td>\"Mozilla/5.0 (Windows NT 5.1) AppleWebKit/537....</td>\n",
       "      <td>97</td>\n",
       "      <td>0</td>\n",
       "      <td>7</td>\n",
       "      <td>15</td>\n",
       "      <td>11</td>\n",
       "      <td>4</td>\n",
       "      <td>Windows</td>\n",
       "      <td>Windows XP</td>\n",
       "    </tr>\n",
       "  </tbody>\n",
       "</table>\n",
       "<p>5 rows × 25 columns</p>\n",
       "</div>"
      ],
      "text/plain": [
       "                                   artist       auth firstName gender  \\\n",
       "122704                        Guildo Horn  Logged In    Emilia      F   \n",
       "273368                           Superbus  Logged In   Lorelei      F   \n",
       "8970                    A Day To Remember  Logged In     Panav      M   \n",
       "125925  Various Artists - Delicious Vinyl  Logged In     Emily      F   \n",
       "193224                        Canned Heat  Logged In   Jayleen      F   \n",
       "\n",
       "        itemInSession lastName     length level  \\\n",
       "122704            138    House  240.37832  paid   \n",
       "273368            138    Silva  192.31302  paid   \n",
       "8970               29    Myers  243.22567  paid   \n",
       "125925              8   Fisher  264.25424  free   \n",
       "193224            288     Reed  289.46240  paid   \n",
       "\n",
       "                                     location method     ...      \\\n",
       "122704  New York-Newark-Jersey City, NY-NJ-PA    PUT     ...       \n",
       "273368                         Pittsburgh, PA    PUT     ...       \n",
       "8970                           Morgantown, WV    PUT     ...       \n",
       "125925                           Syracuse, NY    PUT     ...       \n",
       "193224   Riverside-San Bernardino-Ontario, CA    PUT     ...       \n",
       "\n",
       "                   ts                                          userAgent  \\\n",
       "122704  1540943556000  Mozilla/5.0 (compatible; MSIE 9.0; Windows NT ...   \n",
       "273368  1543330485000  \"Mozilla/5.0 (X11; Linux x86_64) AppleWebKit/5...   \n",
       "8970    1539009766000  \"Mozilla/5.0 (Windows NT 6.1; WOW64) AppleWebK...   \n",
       "125925  1541412638000  Mozilla/5.0 (compatible; MSIE 9.0; Windows NT ...   \n",
       "193224  1542268387000  \"Mozilla/5.0 (Windows NT 5.1) AppleWebKit/537....   \n",
       "\n",
       "        userId churn  hour  day month week_day  os_general os_specific  \n",
       "122704  300011     0    23   30    10        2     Windows   Windows 7  \n",
       "273368     145     0    14   27    11        2       Linux       Linux  \n",
       "8970        15     0    14    8    10        1     Windows   Windows 7  \n",
       "125925  100004     0    10    5    11        1     Windows   Windows 7  \n",
       "193224      97     0     7   15    11        4     Windows  Windows XP  \n",
       "\n",
       "[5 rows x 25 columns]"
      ]
     },
     "execution_count": 46,
     "metadata": {},
     "output_type": "execute_result"
    }
   ],
   "source": [
    "# Convert to pandas for better visuals\n",
    "dfp = df.toPandas()\n",
    "dfp.sample(5)"
   ]
  },
  {
   "cell_type": "code",
   "execution_count": 47,
   "metadata": {},
   "outputs": [
    {
     "data": {
      "image/png": "[encoded data removed]",
      "text/plain": [
       "<matplotlib.figure.Figure at 0x7f6664e8be80>"
      ]
     },
     "metadata": {
      "needs_background": "light"
     },
     "output_type": "display_data"
    }
   ],
   "source": [
    "draw_time('os_general');"
   ]
  },
  {
   "cell_type": "markdown",
   "metadata": {},
   "source": [
    "Mac users looks happy verus other users."
   ]
  },
  {
   "cell_type": "code",
   "execution_count": 48,
   "metadata": {},
   "outputs": [
    {
     "data": {
      "image/png": "[encoded data removed]",
      "text/plain": [
       "<matplotlib.figure.Figure at 0x7f667b56a198>"
      ]
     },
     "metadata": {
      "needs_background": "light"
     },
     "output_type": "display_data"
    }
   ],
   "source": [
    "draw_time('os_specific');"
   ]
  },
  {
   "cell_type": "markdown",
   "metadata": {},
   "source": [
    "Maximum users who tend to churn are those who use Windows 8.x, Windows XP, and Linux whereas iPad and vista users did not have any cancellation."
   ]
  },
  {
   "cell_type": "markdown",
   "metadata": {},
   "source": [
    "# Feature Engineering\n",
    "Once you've familiarized yourself with the data, build out the features you find promising to train your model on. To work with the full dataset, you can follow the following steps.\n",
    "- Write a script to extract the necessary features from the smaller subset of data\n",
    "- Ensure that your script is scalable, using the best practices discussed in Lesson 3\n",
    "- Try your script on the full data set, debugging your script if necessary\n",
    "\n",
    "If you are working in the classroom workspace, you can just extract features based on the small subset of data contained here. Be sure to transfer over this work to the larger dataset when you work on your Spark cluster."
   ]
  },
  {
   "cell_type": "markdown",
   "metadata": {},
   "source": [
    "## Approach\n",
    "\n",
    "It would be nice to explore the following categoric and numeric features but not limited to\n",
    "\n",
    "1.\tCategoric features (needs to be converted to numeric form through dummy encoding)\n",
    "Gender of user; user's OS, payment level (Paid/Free), top artist the user listened to.\n",
    "\n",
    "2.\tNumeric features\n",
    "Song length per user per session, ThumbsUp, ThumbsDown, InviteFriends, downgrades, songs per session, session duration, number of days as free/paid user, etc.\n"
   ]
  },
  {
   "cell_type": "code",
   "execution_count": 49,
   "metadata": {},
   "outputs": [
    {
     "name": "stdout",
     "output_type": "stream",
     "text": [
      "+------+-----+\n",
      "|userId|churn|\n",
      "+------+-----+\n",
      "|100010|    0|\n",
      "|200002|    0|\n",
      "|   125|    1|\n",
      "|   124|    0|\n",
      "|    51|    1|\n",
      "|     7|    0|\n",
      "|    15|    0|\n",
      "|    54|    1|\n",
      "|   155|    0|\n",
      "|100014|    1|\n",
      "+------+-----+\n",
      "only showing top 10 rows\n",
      "\n"
     ]
    }
   ],
   "source": [
    "## creating a table of churn and non-churn users\n",
    "churn_users = df.select('userId', 'churn').dropDuplicates()\n",
    "\n",
    "# check\n",
    "churn_users.show(10)"
   ]
  },
  {
   "cell_type": "code",
   "execution_count": 50,
   "metadata": {},
   "outputs": [
    {
     "name": "stdout",
     "output_type": "stream",
     "text": [
      "root\n",
      " |-- userId: string (nullable = true)\n",
      " |-- gender: integer (nullable = true)\n",
      "\n",
      "+------+------+\n",
      "|userId|gender|\n",
      "+------+------+\n",
      "|    44|     0|\n",
      "|    46|     0|\n",
      "|    41|     0|\n",
      "+------+------+\n",
      "only showing top 3 rows\n",
      "\n",
      "None None\n"
     ]
    }
   ],
   "source": [
    "## dummy variables \"Gender\"\n",
    "def create_dummy_df (col, dictionary):\n",
    "    '''\n",
    "    Create a dataframe to map a variable\n",
    "    col: the column name\n",
    "    dictionary: the mapping of from->to numeric values\n",
    "    return a dataframe of 2 columns\n",
    "    '''\n",
    "    # To map M and F to numeric values, we first should map to string numbers (to avoid spark error)\n",
    "    col_df = df.select('userId', col).dropDuplicates().replace(dictionary, subset=col)\n",
    "    # Then convert the result to numeric value\n",
    "    col_df = col_df.select('userId', col_df[col].cast('int'))\n",
    "    # Check\n",
    "    print(col_df.printSchema(), col_df.show(3))\n",
    "    return col_df\n",
    "\n",
    "\n",
    "gender_df = create_dummy_df('gender', {'M':'1', 'F':'0'})"
   ]
  },
  {
   "cell_type": "code",
   "execution_count": 51,
   "metadata": {},
   "outputs": [
    {
     "name": "stdout",
     "output_type": "stream",
     "text": [
      "+------+-------+---------+--------------+--------+----------------+--------------+--------+-------------+------------+\n",
      "|userId|OS_iPad|OS_iPhone|OS_Windows 8.1|OS_Linux|OS_Windows Vista|OS_Windows 8.0|OS_MacOS|OS_Windows XP|OS_Windows 7|\n",
      "+------+-------+---------+--------------+--------+----------------+--------------+--------+-------------+------------+\n",
      "|    30|      0|        0|             0|       0|               0|             0|       0|            0|           1|\n",
      "|     9|      0|        0|             0|       0|               0|             0|       0|            0|           1|\n",
      "|    30|      0|        0|             0|       0|               0|             0|       0|            0|           1|\n",
      "|     9|      0|        0|             0|       0|               0|             0|       0|            0|           1|\n",
      "|    30|      0|        0|             0|       0|               0|             0|       0|            0|           1|\n",
      "|     9|      0|        0|             0|       0|               0|             0|       0|            0|           1|\n",
      "|     9|      0|        0|             0|       0|               0|             0|       0|            0|           1|\n",
      "|    30|      0|        0|             0|       0|               0|             0|       0|            0|           1|\n",
      "|    30|      0|        0|             0|       0|               0|             0|       0|            0|           1|\n",
      "|    30|      0|        0|             0|       0|               0|             0|       0|            0|           1|\n",
      "+------+-------+---------+--------------+--------+----------------+--------------+--------+-------------+------------+\n",
      "only showing top 10 rows\n",
      "\n"
     ]
    }
   ],
   "source": [
    "## dummy variables \"OS specific\"\n",
    "## reference https://stackoverflow.com/questions/42805663/e-num-get-dummies-in-pyspark\n",
    "os_titles =  df.select('os_specific').distinct().rdd.flatMap(lambda x: x).collect()\n",
    "os_expr = [sF.when(sF.col('os_specific') == osdt, 1).otherwise(0).alias(\"OS_\" + osdt) for osdt in os_titles]\n",
    "os_df = df.select('userId', *os_expr)\n",
    "os_df.show(10)"
   ]
  },
  {
   "cell_type": "code",
   "execution_count": 52,
   "metadata": {},
   "outputs": [
    {
     "name": "stdout",
     "output_type": "stream",
     "text": [
      "root\n",
      " |-- userId: string (nullable = true)\n",
      " |-- OS_iPad: integer (nullable = false)\n",
      " |-- OS_iPhone: integer (nullable = false)\n",
      " |-- OS_Windows 8.1: integer (nullable = false)\n",
      " |-- OS_Linux: integer (nullable = false)\n",
      " |-- OS_Windows Vista: integer (nullable = false)\n",
      " |-- OS_Windows 8.0: integer (nullable = false)\n",
      " |-- OS_MacOS: integer (nullable = false)\n",
      " |-- OS_Windows XP: integer (nullable = false)\n",
      " |-- OS_Windows 7: integer (nullable = false)\n",
      "\n"
     ]
    }
   ],
   "source": [
    "os_df.printSchema()"
   ]
  },
  {
   "cell_type": "code",
   "execution_count": 53,
   "metadata": {},
   "outputs": [
    {
     "name": "stdout",
     "output_type": "stream",
     "text": [
      "root\n",
      " |-- userId: string (nullable = true)\n",
      " |-- level: integer (nullable = true)\n",
      "\n",
      "+------+-----+\n",
      "|userId|level|\n",
      "+------+-----+\n",
      "|100021|    0|\n",
      "|200021|    0|\n",
      "|200001|    0|\n",
      "+------+-----+\n",
      "only showing top 3 rows\n",
      "\n",
      "None None\n"
     ]
    }
   ],
   "source": [
    "## Dummy variable \"pay level\"\n",
    "level_df = create_dummy_df('level', {'paid':'1', 'free':'0'})"
   ]
  },
  {
   "cell_type": "markdown",
   "metadata": {},
   "source": [
    "## Song Length per user per session"
   ]
  },
  {
   "cell_type": "code",
   "execution_count": 54,
   "metadata": {},
   "outputs": [
    {
     "data": {
      "text/html": [
       "<div>\n",
       "<style scoped>\n",
       "    .dataframe tbody tr th:only-of-type {\n",
       "        vertical-align: middle;\n",
       "    }\n",
       "\n",
       "    .dataframe tbody tr th {\n",
       "        vertical-align: top;\n",
       "    }\n",
       "\n",
       "    .dataframe thead th {\n",
       "        text-align: right;\n",
       "    }\n",
       "</style>\n",
       "<table border=\"1\" class=\"dataframe\">\n",
       "  <thead>\n",
       "    <tr style=\"text-align: right;\">\n",
       "      <th></th>\n",
       "      <th>userId</th>\n",
       "      <th>mean_hours</th>\n",
       "      <th>stdev_hours</th>\n",
       "    </tr>\n",
       "  </thead>\n",
       "  <tbody>\n",
       "    <tr>\n",
       "      <th>0</th>\n",
       "      <td>100010</td>\n",
       "      <td>2.656385</td>\n",
       "      <td>1.594089</td>\n",
       "    </tr>\n",
       "    <tr>\n",
       "      <th>1</th>\n",
       "      <td>200002</td>\n",
       "      <td>4.352263</td>\n",
       "      <td>3.481087</td>\n",
       "    </tr>\n",
       "    <tr>\n",
       "      <th>2</th>\n",
       "      <td>125</td>\n",
       "      <td>0.580309</td>\n",
       "      <td>0.000000</td>\n",
       "    </tr>\n",
       "    <tr>\n",
       "      <th>3</th>\n",
       "      <td>51</td>\n",
       "      <td>14.535440</td>\n",
       "      <td>11.600663</td>\n",
       "    </tr>\n",
       "    <tr>\n",
       "      <th>4</th>\n",
       "      <td>124</td>\n",
       "      <td>10.042779</td>\n",
       "      <td>9.370878</td>\n",
       "    </tr>\n",
       "    <tr>\n",
       "      <th>5</th>\n",
       "      <td>7</td>\n",
       "      <td>1.509289</td>\n",
       "      <td>1.737257</td>\n",
       "    </tr>\n",
       "    <tr>\n",
       "      <th>6</th>\n",
       "      <td>54</td>\n",
       "      <td>5.645595</td>\n",
       "      <td>6.724164</td>\n",
       "    </tr>\n",
       "    <tr>\n",
       "      <th>7</th>\n",
       "      <td>15</td>\n",
       "      <td>9.470389</td>\n",
       "      <td>6.159368</td>\n",
       "    </tr>\n",
       "    <tr>\n",
       "      <th>8</th>\n",
       "      <td>155</td>\n",
       "      <td>9.202745</td>\n",
       "      <td>6.528672</td>\n",
       "    </tr>\n",
       "    <tr>\n",
       "      <th>9</th>\n",
       "      <td>100014</td>\n",
       "      <td>3.134420</td>\n",
       "      <td>1.754365</td>\n",
       "    </tr>\n",
       "  </tbody>\n",
       "</table>\n",
       "</div>"
      ],
      "text/plain": [
       "   userId  mean_hours  stdev_hours\n",
       "0  100010    2.656385     1.594089\n",
       "1  200002    4.352263     3.481087\n",
       "2     125    0.580309     0.000000\n",
       "3      51   14.535440    11.600663\n",
       "4     124   10.042779     9.370878\n",
       "5       7    1.509289     1.737257\n",
       "6      54    5.645595     6.724164\n",
       "7      15    9.470389     6.159368\n",
       "8     155    9.202745     6.528672\n",
       "9  100014    3.134420     1.754365"
      ]
     },
     "execution_count": 54,
     "metadata": {},
     "output_type": "execute_result"
    }
   ],
   "source": [
    "## song length per user per session ** get mean and StdDev per user\n",
    "\n",
    "song_length = df.filter(df.page=='NextSong').select('userId', 'sessionId', 'length')\n",
    "song_length = song_length.withColumn('hours', (song_length.length / 3600))\n",
    "song_length = song_length.groupBy('userId', 'sessionId').sum('hours')\n",
    "song_length = song_length.groupBy('userId').agg(\n",
    "                        sF.avg('sum(hours)').alias('mean_hours'), \n",
    "                        sF.stddev('sum(hours)').alias('stdev_hours')).na.fill(0)\n",
    "song_length.toPandas().head(10)"
   ]
  },
  {
   "cell_type": "markdown",
   "metadata": {},
   "source": [
    "## Thumbsup, Thumbsdown, Inviting Friends etc."
   ]
  },
  {
   "cell_type": "code",
   "execution_count": 55,
   "metadata": {},
   "outputs": [
    {
     "data": {
      "text/html": [
       "<div>\n",
       "<style scoped>\n",
       "    .dataframe tbody tr th:only-of-type {\n",
       "        vertical-align: middle;\n",
       "    }\n",
       "\n",
       "    .dataframe tbody tr th {\n",
       "        vertical-align: top;\n",
       "    }\n",
       "\n",
       "    .dataframe thead th {\n",
       "        text-align: right;\n",
       "    }\n",
       "</style>\n",
       "<table border=\"1\" class=\"dataframe\">\n",
       "  <thead>\n",
       "    <tr style=\"text-align: right;\">\n",
       "      <th></th>\n",
       "      <th>userId</th>\n",
       "      <th>About</th>\n",
       "      <th>Add Friend</th>\n",
       "      <th>Add to Playlist</th>\n",
       "      <th>Downgrade</th>\n",
       "      <th>Error</th>\n",
       "      <th>Help</th>\n",
       "      <th>Home</th>\n",
       "      <th>Logout</th>\n",
       "      <th>NextSong</th>\n",
       "      <th>Roll Advert</th>\n",
       "      <th>Save Settings</th>\n",
       "      <th>Settings</th>\n",
       "      <th>Submit Downgrade</th>\n",
       "      <th>Submit Upgrade</th>\n",
       "      <th>Thumbs Down</th>\n",
       "      <th>Thumbs Up</th>\n",
       "      <th>Upgrade</th>\n",
       "    </tr>\n",
       "  </thead>\n",
       "  <tbody>\n",
       "    <tr>\n",
       "      <th>0</th>\n",
       "      <td>200002</td>\n",
       "      <td>0.632911</td>\n",
       "      <td>0.843882</td>\n",
       "      <td>1.687764</td>\n",
       "      <td>1.054852</td>\n",
       "      <td>0.000000</td>\n",
       "      <td>0.421941</td>\n",
       "      <td>4.219409</td>\n",
       "      <td>1.054852</td>\n",
       "      <td>81.645570</td>\n",
       "      <td>1.476793</td>\n",
       "      <td>0.000000</td>\n",
       "      <td>0.632911</td>\n",
       "      <td>0.000000</td>\n",
       "      <td>0.210970</td>\n",
       "      <td>1.265823</td>\n",
       "      <td>4.430380</td>\n",
       "      <td>0.421941</td>\n",
       "    </tr>\n",
       "    <tr>\n",
       "      <th>1</th>\n",
       "      <td>100010</td>\n",
       "      <td>0.262467</td>\n",
       "      <td>1.049869</td>\n",
       "      <td>1.837270</td>\n",
       "      <td>0.000000</td>\n",
       "      <td>0.000000</td>\n",
       "      <td>0.524934</td>\n",
       "      <td>2.887139</td>\n",
       "      <td>1.312336</td>\n",
       "      <td>72.178478</td>\n",
       "      <td>13.648294</td>\n",
       "      <td>0.000000</td>\n",
       "      <td>0.000000</td>\n",
       "      <td>0.000000</td>\n",
       "      <td>0.000000</td>\n",
       "      <td>1.312336</td>\n",
       "      <td>4.461942</td>\n",
       "      <td>0.524934</td>\n",
       "    </tr>\n",
       "    <tr>\n",
       "      <th>2</th>\n",
       "      <td>125</td>\n",
       "      <td>0.000000</td>\n",
       "      <td>0.000000</td>\n",
       "      <td>0.000000</td>\n",
       "      <td>0.000000</td>\n",
       "      <td>0.000000</td>\n",
       "      <td>0.000000</td>\n",
       "      <td>0.000000</td>\n",
       "      <td>0.000000</td>\n",
       "      <td>88.888889</td>\n",
       "      <td>11.111111</td>\n",
       "      <td>0.000000</td>\n",
       "      <td>0.000000</td>\n",
       "      <td>0.000000</td>\n",
       "      <td>0.000000</td>\n",
       "      <td>0.000000</td>\n",
       "      <td>0.000000</td>\n",
       "      <td>0.000000</td>\n",
       "    </tr>\n",
       "    <tr>\n",
       "      <th>3</th>\n",
       "      <td>51</td>\n",
       "      <td>0.081235</td>\n",
       "      <td>1.137287</td>\n",
       "      <td>2.112104</td>\n",
       "      <td>0.934200</td>\n",
       "      <td>0.040617</td>\n",
       "      <td>0.487409</td>\n",
       "      <td>3.046304</td>\n",
       "      <td>0.974817</td>\n",
       "      <td>85.743298</td>\n",
       "      <td>0.000000</td>\n",
       "      <td>0.040617</td>\n",
       "      <td>0.487409</td>\n",
       "      <td>0.000000</td>\n",
       "      <td>0.000000</td>\n",
       "      <td>0.852965</td>\n",
       "      <td>4.061738</td>\n",
       "      <td>0.000000</td>\n",
       "    </tr>\n",
       "    <tr>\n",
       "      <th>4</th>\n",
       "      <td>124</td>\n",
       "      <td>0.145078</td>\n",
       "      <td>1.533679</td>\n",
       "      <td>2.445596</td>\n",
       "      <td>0.849741</td>\n",
       "      <td>0.124352</td>\n",
       "      <td>0.476684</td>\n",
       "      <td>3.647668</td>\n",
       "      <td>1.222798</td>\n",
       "      <td>84.538860</td>\n",
       "      <td>0.082902</td>\n",
       "      <td>0.124352</td>\n",
       "      <td>0.414508</td>\n",
       "      <td>0.000000</td>\n",
       "      <td>0.000000</td>\n",
       "      <td>0.849741</td>\n",
       "      <td>3.544041</td>\n",
       "      <td>0.000000</td>\n",
       "    </tr>\n",
       "    <tr>\n",
       "      <th>5</th>\n",
       "      <td>7</td>\n",
       "      <td>0.000000</td>\n",
       "      <td>0.497512</td>\n",
       "      <td>2.487562</td>\n",
       "      <td>0.000000</td>\n",
       "      <td>0.497512</td>\n",
       "      <td>0.497512</td>\n",
       "      <td>4.975124</td>\n",
       "      <td>1.492537</td>\n",
       "      <td>74.626866</td>\n",
       "      <td>7.960199</td>\n",
       "      <td>0.497512</td>\n",
       "      <td>1.492537</td>\n",
       "      <td>0.000000</td>\n",
       "      <td>0.000000</td>\n",
       "      <td>0.497512</td>\n",
       "      <td>3.482587</td>\n",
       "      <td>0.995025</td>\n",
       "    </tr>\n",
       "    <tr>\n",
       "      <th>6</th>\n",
       "      <td>54</td>\n",
       "      <td>0.145560</td>\n",
       "      <td>0.960699</td>\n",
       "      <td>2.096070</td>\n",
       "      <td>1.135371</td>\n",
       "      <td>0.029112</td>\n",
       "      <td>0.494905</td>\n",
       "      <td>3.755459</td>\n",
       "      <td>1.048035</td>\n",
       "      <td>82.707424</td>\n",
       "      <td>1.368268</td>\n",
       "      <td>0.087336</td>\n",
       "      <td>0.494905</td>\n",
       "      <td>0.029112</td>\n",
       "      <td>0.029112</td>\n",
       "      <td>0.844250</td>\n",
       "      <td>4.745269</td>\n",
       "      <td>0.029112</td>\n",
       "    </tr>\n",
       "    <tr>\n",
       "      <th>7</th>\n",
       "      <td>15</td>\n",
       "      <td>0.087796</td>\n",
       "      <td>1.360843</td>\n",
       "      <td>2.589991</td>\n",
       "      <td>1.229148</td>\n",
       "      <td>0.087796</td>\n",
       "      <td>0.351185</td>\n",
       "      <td>4.082529</td>\n",
       "      <td>1.185250</td>\n",
       "      <td>84.021071</td>\n",
       "      <td>0.043898</td>\n",
       "      <td>0.087796</td>\n",
       "      <td>0.702371</td>\n",
       "      <td>0.000000</td>\n",
       "      <td>0.000000</td>\n",
       "      <td>0.614574</td>\n",
       "      <td>3.555751</td>\n",
       "      <td>0.000000</td>\n",
       "    </tr>\n",
       "    <tr>\n",
       "      <th>8</th>\n",
       "      <td>155</td>\n",
       "      <td>0.199601</td>\n",
       "      <td>1.097804</td>\n",
       "      <td>2.395210</td>\n",
       "      <td>1.197605</td>\n",
       "      <td>0.299401</td>\n",
       "      <td>0.898204</td>\n",
       "      <td>2.994012</td>\n",
       "      <td>1.397206</td>\n",
       "      <td>81.836327</td>\n",
       "      <td>0.798403</td>\n",
       "      <td>0.000000</td>\n",
       "      <td>0.499002</td>\n",
       "      <td>0.000000</td>\n",
       "      <td>0.099800</td>\n",
       "      <td>0.299401</td>\n",
       "      <td>5.788423</td>\n",
       "      <td>0.199601</td>\n",
       "    </tr>\n",
       "    <tr>\n",
       "      <th>9</th>\n",
       "      <td>132</td>\n",
       "      <td>0.173611</td>\n",
       "      <td>1.779514</td>\n",
       "      <td>1.649306</td>\n",
       "      <td>0.824653</td>\n",
       "      <td>0.130208</td>\n",
       "      <td>0.694444</td>\n",
       "      <td>3.602431</td>\n",
       "      <td>1.475694</td>\n",
       "      <td>83.680556</td>\n",
       "      <td>0.086806</td>\n",
       "      <td>0.173611</td>\n",
       "      <td>0.737847</td>\n",
       "      <td>0.000000</td>\n",
       "      <td>0.043403</td>\n",
       "      <td>0.737847</td>\n",
       "      <td>4.166667</td>\n",
       "      <td>0.043403</td>\n",
       "    </tr>\n",
       "  </tbody>\n",
       "</table>\n",
       "</div>"
      ],
      "text/plain": [
       "   userId     About  Add Friend  Add to Playlist  Downgrade     Error  \\\n",
       "0  200002  0.632911    0.843882         1.687764   1.054852  0.000000   \n",
       "1  100010  0.262467    1.049869         1.837270   0.000000  0.000000   \n",
       "2     125  0.000000    0.000000         0.000000   0.000000  0.000000   \n",
       "3      51  0.081235    1.137287         2.112104   0.934200  0.040617   \n",
       "4     124  0.145078    1.533679         2.445596   0.849741  0.124352   \n",
       "5       7  0.000000    0.497512         2.487562   0.000000  0.497512   \n",
       "6      54  0.145560    0.960699         2.096070   1.135371  0.029112   \n",
       "7      15  0.087796    1.360843         2.589991   1.229148  0.087796   \n",
       "8     155  0.199601    1.097804         2.395210   1.197605  0.299401   \n",
       "9     132  0.173611    1.779514         1.649306   0.824653  0.130208   \n",
       "\n",
       "       Help      Home    Logout   NextSong  Roll Advert  Save Settings  \\\n",
       "0  0.421941  4.219409  1.054852  81.645570     1.476793       0.000000   \n",
       "1  0.524934  2.887139  1.312336  72.178478    13.648294       0.000000   \n",
       "2  0.000000  0.000000  0.000000  88.888889    11.111111       0.000000   \n",
       "3  0.487409  3.046304  0.974817  85.743298     0.000000       0.040617   \n",
       "4  0.476684  3.647668  1.222798  84.538860     0.082902       0.124352   \n",
       "5  0.497512  4.975124  1.492537  74.626866     7.960199       0.497512   \n",
       "6  0.494905  3.755459  1.048035  82.707424     1.368268       0.087336   \n",
       "7  0.351185  4.082529  1.185250  84.021071     0.043898       0.087796   \n",
       "8  0.898204  2.994012  1.397206  81.836327     0.798403       0.000000   \n",
       "9  0.694444  3.602431  1.475694  83.680556     0.086806       0.173611   \n",
       "\n",
       "   Settings  Submit Downgrade  Submit Upgrade  Thumbs Down  Thumbs Up  \\\n",
       "0  0.632911          0.000000        0.210970     1.265823   4.430380   \n",
       "1  0.000000          0.000000        0.000000     1.312336   4.461942   \n",
       "2  0.000000          0.000000        0.000000     0.000000   0.000000   \n",
       "3  0.487409          0.000000        0.000000     0.852965   4.061738   \n",
       "4  0.414508          0.000000        0.000000     0.849741   3.544041   \n",
       "5  1.492537          0.000000        0.000000     0.497512   3.482587   \n",
       "6  0.494905          0.029112        0.029112     0.844250   4.745269   \n",
       "7  0.702371          0.000000        0.000000     0.614574   3.555751   \n",
       "8  0.499002          0.000000        0.099800     0.299401   5.788423   \n",
       "9  0.737847          0.000000        0.043403     0.737847   4.166667   \n",
       "\n",
       "    Upgrade  \n",
       "0  0.421941  \n",
       "1  0.524934  \n",
       "2  0.000000  \n",
       "3  0.000000  \n",
       "4  0.000000  \n",
       "5  0.995025  \n",
       "6  0.029112  \n",
       "7  0.000000  \n",
       "8  0.199601  \n",
       "9  0.043403  "
      ]
     },
     "execution_count": 55,
     "metadata": {},
     "output_type": "execute_result"
    }
   ],
   "source": [
    "# To get the number of ThumbsUp, ThumbsDown, Inviting friends, ...\n",
    "\n",
    "# It is good to get all actions except Chorn actions (Cancel, cancelation confirmation)\n",
    "# The to normalize them as percent to sum all to 100.\n",
    "\n",
    "# The distribution of pages per user (FILLING NAN with 0)\n",
    "user_page_distribution = df.groupby('userId').pivot('page').count().na.fill(0) #.toPandas().head(30)\n",
    "\n",
    "# Drop Cancel\tCancellation Confirmation columns\n",
    "user_page_distribution = user_page_distribution.drop(*['Cancel','Cancellation Confirmation'])\n",
    "\n",
    "# Normalizing each row to sum to 1\n",
    "\n",
    "# SOURCES\n",
    "# https://stackoverflow.com/questions/47641076/spark-normalize-each-row-of-a-dataframe\n",
    "# https://stackoverflow.com/questions/31955309/add-column-sum-as-new-column-in-pyspark-dataframe\n",
    "\n",
    "# the columns to be summed\n",
    "pages_cols = user_page_distribution.columns[1:]\n",
    "\n",
    "# Add a total column\n",
    "new_df = user_page_distribution.withColumn('total', sum(user_page_distribution[col] for col in pages_cols))\n",
    "\n",
    "# Apply normalization per column\n",
    "for col in pages_cols:\n",
    "    new_df = new_df.withColumn(f'norm_{col}', new_df[col] / new_df['total'] * 100.)\n",
    "    \n",
    "# Remove the total column    \n",
    "new_df = new_df.drop('total')\n",
    "\n",
    "# Remove the original columns\n",
    "new_df = new_df.drop(*pages_cols)\n",
    "\n",
    "# Rename the normalized columns back\n",
    "oldColumns = new_df.columns\n",
    "newColumns = ['userId'] + pages_cols\n",
    "user_page_distribution = reduce(lambda new_df, idx: new_df.withColumnRenamed(oldColumns[idx], newColumns[idx]), range(len(oldColumns)), new_df)\n",
    "\n",
    "# Freeup memory\n",
    "new_df=None\n",
    "\n",
    "user_page_distribution.toPandas().head(10)"
   ]
  },
  {
   "cell_type": "code",
   "execution_count": 56,
   "metadata": {},
   "outputs": [
    {
     "name": "stdout",
     "output_type": "stream",
     "text": [
      "+------+------------------+------------------+\n",
      "|userId|        mean_songs|       stdev_songs|\n",
      "+------+------------------+------------------+\n",
      "|100010|39.285714285714285| 22.96166577663945|\n",
      "|200002|              64.5|51.309843110264914|\n",
      "|   125|               8.0|               0.0|\n",
      "|    51|             211.1| 168.1483802413148|\n",
      "|   124|145.67857142857142|137.40587446912284|\n",
      "+------+------------------+------------------+\n",
      "only showing top 5 rows\n",
      "\n"
     ]
    }
   ],
   "source": [
    "# Number of songs per session\n",
    "\n",
    "song_user_df = df.filter(df.page == 'NextSong').groupBy(\n",
    "                        'userId', 'sessionId').count()\n",
    "song_user_df = song_user_df.groupBy('userId').agg(\n",
    "                        sF.avg('count').alias('mean_songs'), \n",
    "                        sF.stddev('count').alias('stdev_songs'))\n",
    "song_user_df = song_user_df.na.fill(0)\n",
    "song_user_df.show(5)"
   ]
  },
  {
   "cell_type": "markdown",
   "metadata": {},
   "source": [
    "### number of artists"
   ]
  },
  {
   "cell_type": "code",
   "execution_count": 57,
   "metadata": {},
   "outputs": [
    {
     "name": "stdout",
     "output_type": "stream",
     "text": [
      "+------+----------+\n",
      "|userId|num_aritst|\n",
      "+------+----------+\n",
      "|100010|       253|\n",
      "|200002|       340|\n",
      "|   125|         9|\n",
      "|    51|      1386|\n",
      "|   124|      2233|\n",
      "+------+----------+\n",
      "only showing top 5 rows\n",
      "\n"
     ]
    }
   ],
   "source": [
    "artists_user_fans = df.select('userId', 'artist').dropDuplicates().groupBy('userId').count().withColumnRenamed(\"count\", \"num_aritst\")\n",
    "artists_user_fans.show(5)"
   ]
  },
  {
   "cell_type": "markdown",
   "metadata": {},
   "source": [
    "### Session Duration"
   ]
  },
  {
   "cell_type": "code",
   "execution_count": 58,
   "metadata": {},
   "outputs": [
    {
     "name": "stdout",
     "output_type": "stream",
     "text": [
      "+------+---------+-------------------+\n",
      "|userId|sessionId|      session_hours|\n",
      "+------+---------+-------------------+\n",
      "|   101|      635| 55.000277777777775|\n",
      "|   110|     1776| 1.3908333333333334|\n",
      "|   120|      627| 15.855555555555556|\n",
      "|   122|      691|0.30833333333333335|\n",
      "|   140|      798|0.16027777777777777|\n",
      "+------+---------+-------------------+\n",
      "only showing top 5 rows\n",
      "\n"
     ]
    }
   ],
   "source": [
    "session_end = df.groupBy('userId', 'sessionId').max('ts').withColumnRenamed(\n",
    "                                                            'max(ts)', 'end')\n",
    "session_start = df.groupBy('userId', 'sessionId').min('ts').withColumnRenamed(\n",
    "                                                            'min(ts)', 'start')\n",
    "session_df = session_start.join(session_end,['userId', 'sessionId'])\n",
    "ticks_per_hours = 1000 * 60 * 60\n",
    "session_df = session_df.select('userId', 'sessionId', ((\n",
    "    session_df.end-session_df.start)/ticks_per_hours).alias('session_hours'))\n",
    "session_df.show(5)"
   ]
  },
  {
   "cell_type": "code",
   "execution_count": 60,
   "metadata": {},
   "outputs": [
    {
     "name": "stdout",
     "output_type": "stream",
     "text": [
      "+------+-------------------+------------------+\n",
      "|userId|     mean_session_h|   stdev_session_h|\n",
      "+------+-------------------+------------------+\n",
      "|100010|  2.574722222222223|1.5888758093219746|\n",
      "|200002|               4.44| 3.615756029749058|\n",
      "|   125|0.49277777777777776|               0.0|\n",
      "|    51| 14.539277777777775|11.671992558014606|\n",
      "|   124|  9.649904214559387| 9.380928117286047|\n",
      "+------+-------------------+------------------+\n",
      "only showing top 5 rows\n",
      "\n"
     ]
    }
   ],
   "source": [
    "## Session duration per user (average)\n",
    "session_user_df = session_df.groupBy('userId').agg(\n",
    "                        sF.avg('session_hours').alias('mean_session_h'), \n",
    "                        sF.stddev('session_hours').alias('stdev_session_h'))\n",
    "# Fill NaN with 0\n",
    "session_user_df = session_user_df.na.fill(0)\n",
    "session_user_df.show(5)"
   ]
  },
  {
   "cell_type": "code",
   "execution_count": 61,
   "metadata": {},
   "outputs": [
    {
     "name": "stdout",
     "output_type": "stream",
     "text": [
      "+------+------------+\n",
      "|userId|num_sessions|\n",
      "+------+------------+\n",
      "|100010|           7|\n",
      "|200002|           6|\n",
      "|   125|           1|\n",
      "|    51|          10|\n",
      "|   124|          29|\n",
      "+------+------------+\n",
      "only showing top 5 rows\n",
      "\n"
     ]
    }
   ],
   "source": [
    "# Session per user\n",
    "num_sessions_user_df = df.select('userId', 'sessionId').dropDuplicates().groupby('userId').count().withColumnRenamed('count', 'num_sessions')\n",
    "num_sessions_user_df.show(5)"
   ]
  },
  {
   "cell_type": "code",
   "execution_count": 62,
   "metadata": {},
   "outputs": [
    {
     "name": "stdout",
     "output_type": "stream",
     "text": [
      "+------+-----------------------+\n",
      "|userId|days_total_subscription|\n",
      "+------+-----------------------+\n",
      "|100010|      55.64365740740741|\n",
      "|200002|      70.07462962962963|\n",
      "|   125|      71.31688657407408|\n",
      "|   124|     131.55591435185184|\n",
      "|    51|     19.455844907407407|\n",
      "+------+-----------------------+\n",
      "only showing top 5 rows\n",
      "\n"
     ]
    }
   ],
   "source": [
    "# Age of users\n",
    "def days_since_subscription(df, col_name='days_on'):\n",
    "    # timestamp of users registration\n",
    "    reg_ts = df.select('userId', 'registration').dropDuplicates().withColumnRenamed('registration', 'start')\n",
    "    # reg_ts.show(5)\n",
    "    # The maximum timestamp found for the user\n",
    "    end_ts = df.groupBy('userId').max('ts').withColumnRenamed('max(ts)', 'end')\n",
    "    # end_ts.show(5)\n",
    "    # The difference\n",
    "    reg_df = reg_ts.join(end_ts,'userId')\n",
    "    ticks_per_day = 1000 * 60 * 60 * 24 # as the timestamp is in ticks (0.001 seconds)\n",
    "    # Merge in one df\n",
    "    reg_df = reg_df.select('userId', ((reg_df.end-reg_df.start)/ticks_per_day).alias(col_name))\n",
    "    # reg_ts.join(user_max_ts, user_reg_ts.userId == user_max_ts.userId).select(user_reg_ts[\"userId\"], ((user_max_ts[\"max(ts)\"]-user_reg_ts[\"registration\"])/(1000*60*60*24)).alias(\"regDay\"))\n",
    "    return reg_df\n",
    "\n",
    "reg_df = days_since_subscription(df, col_name='days_total_subscription')\n",
    "reg_df.show(5)"
   ]
  },
  {
   "cell_type": "code",
   "execution_count": 63,
   "metadata": {},
   "outputs": [
    {
     "name": "stdout",
     "output_type": "stream",
     "text": [
      "+------+----------------------+\n",
      "|userId|days_paid_subscription|\n",
      "+------+----------------------+\n",
      "|200002|     70.07462962962963|\n",
      "|   124|    131.55591435185184|\n",
      "|    51|    19.455844907407407|\n",
      "|    15|    56.513576388888886|\n",
      "|    54|    110.75168981481481|\n",
      "+------+----------------------+\n",
      "only showing top 5 rows\n",
      "\n"
     ]
    }
   ],
   "source": [
    "### Number of days as paid user\n",
    "df_paid = df.filter(df.level=='paid')\n",
    "paid_df = days_since_subscription(df_paid, col_name='days_paid_subscription')\n",
    "paid_df.show(5)"
   ]
  },
  {
   "cell_type": "code",
   "execution_count": 64,
   "metadata": {},
   "outputs": [
    {
     "name": "stdout",
     "output_type": "stream",
     "text": [
      "+------+----------------------+\n",
      "|userId|days_free_subscription|\n",
      "+------+----------------------+\n",
      "|100010|     55.64365740740741|\n",
      "|200002|     41.49415509259259|\n",
      "|   125|     71.31688657407408|\n",
      "|     7|     72.77818287037037|\n",
      "|    54|     96.45179398148149|\n",
      "+------+----------------------+\n",
      "only showing top 5 rows\n",
      "\n"
     ]
    }
   ],
   "source": [
    "## Number of days as free user\n",
    "df_free = df.filter(df.level=='free')\n",
    "free_df = days_since_subscription(df_free, col_name='days_free_subscription')\n",
    "free_df.show(5)"
   ]
  },
  {
   "cell_type": "code",
   "execution_count": 66,
   "metadata": {},
   "outputs": [
    {
     "name": "stdout",
     "output_type": "stream",
     "text": [
      "+------+------------------+-----------------+\n",
      "|userId|      free_percent|     paid_percent|\n",
      "+------+------------------+-----------------+\n",
      "|200002| 22.48062015503876|77.51937984496125|\n",
      "|100010|             100.0|              0.0|\n",
      "|   125|             100.0|              0.0|\n",
      "|     7|             100.0|              0.0|\n",
      "|   124|               0.0|            100.0|\n",
      "|    51|               0.0|            100.0|\n",
      "|    54|15.452305526223162|84.54769447377683|\n",
      "|    15|               0.0|            100.0|\n",
      "|   155|12.317073170731707| 87.6829268292683|\n",
      "|   132|1.4522821576763485|98.54771784232366|\n",
      "+------+------------------+-----------------+\n",
      "only showing top 10 rows\n",
      "\n"
     ]
    }
   ],
   "source": [
    "paid_free_df = df.filter(df.page=='NextSong').groupBy('userId').pivot('level').count()\n",
    "paid_free_df = paid_free_df.na.fill(0)\n",
    "active_cols = paid_free_df.columns[1:]\n",
    "paid_free_df = paid_free_df.withColumn('total', \n",
    "                                       sum(paid_free_df[col] for col in active_cols))\n",
    "for col in active_cols:\n",
    "    paid_free_df = paid_free_df.withColumn(f'{col}_percent', \n",
    "                                           paid_free_df[col] / paid_free_df.total * 100)\n",
    "active_cols.append('total')    \n",
    "paid_free_df = paid_free_df.drop(*active_cols)\n",
    "paid_free_df.show(10)"
   ]
  },
  {
   "cell_type": "markdown",
   "metadata": {},
   "source": [
    "#### dropping free_percent"
   ]
  },
  {
   "cell_type": "code",
   "execution_count": 67,
   "metadata": {},
   "outputs": [
    {
     "name": "stdout",
     "output_type": "stream",
     "text": [
      "+------+-----------------+\n",
      "|userId|     paid_percent|\n",
      "+------+-----------------+\n",
      "|200002|77.51937984496125|\n",
      "|100010|              0.0|\n",
      "|   125|              0.0|\n",
      "+------+-----------------+\n",
      "only showing top 3 rows\n",
      "\n"
     ]
    }
   ],
   "source": [
    "paid_free_df = paid_free_df.drop('free_percent')\n",
    "paid_free_df.show(3)"
   ]
  },
  {
   "cell_type": "markdown",
   "metadata": {},
   "source": [
    "## Collection"
   ]
  },
  {
   "cell_type": "code",
   "execution_count": 68,
   "metadata": {},
   "outputs": [],
   "source": [
    "user_features = [gender_df, os_df, paid_free_df, song_length, \n",
    "                   user_page_distribution, song_user_df, artists_user_fans, \n",
    "                   session_user_df, num_sessions_user_df, reg_df]\n",
    "user_features_names = ['gender_df', 'os_df', 'paid_free_df', 'song_length', \n",
    "                   'user_page_distribution', 'song_user_df', 'artists_user_fans', \n",
    "                   'session_user_df', 'num_sessions_user_df', 'reg_df']"
   ]
  },
  {
   "cell_type": "code",
   "execution_count": 70,
   "metadata": {},
   "outputs": [
    {
     "name": "stdout",
     "output_type": "stream",
     "text": [
      "Preparing features of the gender_df dataframe; the new frame's dimensions is: 225 * 3\n",
      "Preparing features of the os_df dataframe; the new frame's dimensions is: 225 * 12\n",
      "Preparing features of the paid_free_df dataframe; the new frame's dimensions is: 225 * 13\n",
      "Preparing features of the song_length dataframe; the new frame's dimensions is: 225 * 15\n",
      "Preparing features of the user_page_distribution dataframe; the new frame's dimensions is: 225 * 32\n",
      "Preparing features of the song_user_df dataframe; the new frame's dimensions is: 225 * 34\n",
      "Preparing features of the artists_user_fans dataframe; the new frame's dimensions is: 225 * 35\n",
      "Preparing features of the session_user_df dataframe; the new frame's dimensions is: 225 * 37\n",
      "Preparing features of the num_sessions_user_df dataframe; the new frame's dimensions is: 225 * 38\n",
      "Preparing features of the reg_df dataframe; the new frame's dimensions is: 225 * 39\n",
      "*** ALL DONE ***\n"
     ]
    }
   ],
   "source": [
    "# Initialize the final_df\n",
    "final_df = churn_users\n",
    "\n",
    "def join_features(base, new):\n",
    "    df_to_join = new#.withColumnRenamed('userId', 't_userId')\n",
    "    base = base.join(df_to_join, 'userId', how='inner')#.drop('t_userId')#.show(10)\n",
    "    return base.dropDuplicates()\n",
    "\n",
    "for i, feature in enumerate(user_features):\n",
    "    print(f'Preparing features of the {user_features_names[i]} dataframe', end='; ')\n",
    "    final_df = join_features(final_df, feature)\n",
    "    print (f\"the new frame's dimensions is: {final_df.count()} * {len(final_df.columns)}\")\n",
    "final_df = final_df.orderBy('userId', ascending=True)\n",
    "print('*** ALL DONE ***')"
   ]
  },
  {
   "cell_type": "code",
   "execution_count": 71,
   "metadata": {},
   "outputs": [],
   "source": [
    "# Saving as SPARK format\n",
    "final_df.write.save('saved_user_dataset.CSV', format='csv', header=True)"
   ]
  },
  {
   "cell_type": "markdown",
   "metadata": {},
   "source": [
    "# Modeling\n",
    "Split the full dataset into train, test, and validation sets. Test out several of the machine learning methods you learned. Evaluate the accuracy of the various models, tuning parameters as necessary. Determine your winning model based on test accuracy and report results on the validation set. Since the churned users are a fairly small subset, I suggest using F1 score as the metric to optimize."
   ]
  },
  {
   "cell_type": "markdown",
   "metadata": {},
   "source": [
    "## Loading and adjusting data"
   ]
  },
  {
   "cell_type": "code",
   "execution_count": 72,
   "metadata": {},
   "outputs": [
    {
     "data": {
      "text/html": [
       "<div>\n",
       "<style scoped>\n",
       "    .dataframe tbody tr th:only-of-type {\n",
       "        vertical-align: middle;\n",
       "    }\n",
       "\n",
       "    .dataframe tbody tr th {\n",
       "        vertical-align: top;\n",
       "    }\n",
       "\n",
       "    .dataframe thead th {\n",
       "        text-align: right;\n",
       "    }\n",
       "</style>\n",
       "<table border=\"1\" class=\"dataframe\">\n",
       "  <thead>\n",
       "    <tr style=\"text-align: right;\">\n",
       "      <th></th>\n",
       "      <th>userId</th>\n",
       "      <th>churn</th>\n",
       "      <th>gender</th>\n",
       "      <th>OS_iPad</th>\n",
       "      <th>OS_iPhone</th>\n",
       "      <th>OS_Windows 8.1</th>\n",
       "      <th>OS_Linux</th>\n",
       "      <th>OS_Windows Vista</th>\n",
       "      <th>OS_Windows 8.0</th>\n",
       "      <th>OS_MacOS</th>\n",
       "      <th>...</th>\n",
       "      <th>Thumbs Down</th>\n",
       "      <th>Thumbs Up</th>\n",
       "      <th>Upgrade</th>\n",
       "      <th>mean_songs</th>\n",
       "      <th>stdev_songs</th>\n",
       "      <th>num_aritst</th>\n",
       "      <th>mean_session_h</th>\n",
       "      <th>stdev_session_h</th>\n",
       "      <th>num_sessions</th>\n",
       "      <th>days_total_subscription</th>\n",
       "    </tr>\n",
       "  </thead>\n",
       "  <tbody>\n",
       "    <tr>\n",
       "      <th>0</th>\n",
       "      <td>30</td>\n",
       "      <td>0</td>\n",
       "      <td>1</td>\n",
       "      <td>0</td>\n",
       "      <td>0</td>\n",
       "      <td>0</td>\n",
       "      <td>0</td>\n",
       "      <td>0</td>\n",
       "      <td>0</td>\n",
       "      <td>0</td>\n",
       "      <td>...</td>\n",
       "      <td>0.9577464788732395</td>\n",
       "      <td>3.492957746478873</td>\n",
       "      <td>0.7887323943661971</td>\n",
       "      <td>50.607142857142854</td>\n",
       "      <td>68.92579976333879</td>\n",
       "      <td>1019</td>\n",
       "      <td>3.0599045138888887</td>\n",
       "      <td>4.655638231407505</td>\n",
       "      <td>32</td>\n",
       "      <td>63.06664351851852</td>\n",
       "    </tr>\n",
       "    <tr>\n",
       "      <th>1</th>\n",
       "      <td>300001</td>\n",
       "      <td>1</td>\n",
       "      <td>0</td>\n",
       "      <td>0</td>\n",
       "      <td>0</td>\n",
       "      <td>0</td>\n",
       "      <td>0</td>\n",
       "      <td>0</td>\n",
       "      <td>0</td>\n",
       "      <td>0</td>\n",
       "      <td>...</td>\n",
       "      <td>0.7848568790397045</td>\n",
       "      <td>6.832871652816251</td>\n",
       "      <td>0.09233610341643582</td>\n",
       "      <td>102.88235294117646</td>\n",
       "      <td>88.12908313444346</td>\n",
       "      <td>1202</td>\n",
       "      <td>6.367543859649123</td>\n",
       "      <td>6.150871757879998</td>\n",
       "      <td>19</td>\n",
       "      <td>188.3117824074074</td>\n",
       "    </tr>\n",
       "    <tr>\n",
       "      <th>2</th>\n",
       "      <td>91</td>\n",
       "      <td>0</td>\n",
       "      <td>1</td>\n",
       "      <td>0</td>\n",
       "      <td>0</td>\n",
       "      <td>1</td>\n",
       "      <td>0</td>\n",
       "      <td>0</td>\n",
       "      <td>0</td>\n",
       "      <td>0</td>\n",
       "      <td>...</td>\n",
       "      <td>0.7962840079628402</td>\n",
       "      <td>4.11413404114134</td>\n",
       "      <td>0.033178500331785</td>\n",
       "      <td>286.6666666666667</td>\n",
       "      <td>337.84426885770904</td>\n",
       "      <td>1619</td>\n",
       "      <td>19.665</td>\n",
       "      <td>23.019357929090734</td>\n",
       "      <td>9</td>\n",
       "      <td>116.02526620370371</td>\n",
       "    </tr>\n",
       "    <tr>\n",
       "      <th>3</th>\n",
       "      <td>92</td>\n",
       "      <td>0</td>\n",
       "      <td>0</td>\n",
       "      <td>1</td>\n",
       "      <td>0</td>\n",
       "      <td>0</td>\n",
       "      <td>0</td>\n",
       "      <td>0</td>\n",
       "      <td>0</td>\n",
       "      <td>0</td>\n",
       "      <td>...</td>\n",
       "      <td>0.9958506224066389</td>\n",
       "      <td>4.0387275242047025</td>\n",
       "      <td>0.06915629322268327</td>\n",
       "      <td>70.77380952380952</td>\n",
       "      <td>86.9796197137792</td>\n",
       "      <td>2905</td>\n",
       "      <td>4.745203488372092</td>\n",
       "      <td>6.054084867345142</td>\n",
       "      <td>86</td>\n",
       "      <td>83.52885416666666</td>\n",
       "    </tr>\n",
       "    <tr>\n",
       "      <th>4</th>\n",
       "      <td>200008</td>\n",
       "      <td>0</td>\n",
       "      <td>0</td>\n",
       "      <td>0</td>\n",
       "      <td>0</td>\n",
       "      <td>0</td>\n",
       "      <td>0</td>\n",
       "      <td>0</td>\n",
       "      <td>0</td>\n",
       "      <td>0</td>\n",
       "      <td>...</td>\n",
       "      <td>2.584493041749503</td>\n",
       "      <td>3.3797216699801194</td>\n",
       "      <td>0.049701789264413515</td>\n",
       "      <td>111.26666666666667</td>\n",
       "      <td>107.38613016763829</td>\n",
       "      <td>1160</td>\n",
       "      <td>7.5379259259259275</td>\n",
       "      <td>7.284556907097743</td>\n",
       "      <td>15</td>\n",
       "      <td>115.18381944444444</td>\n",
       "    </tr>\n",
       "  </tbody>\n",
       "</table>\n",
       "<p>5 rows × 39 columns</p>\n",
       "</div>"
      ],
      "text/plain": [
       "   userId churn gender OS_iPad OS_iPhone OS_Windows 8.1 OS_Linux  \\\n",
       "0      30     0      1       0         0              0        0   \n",
       "1  300001     1      0       0         0              0        0   \n",
       "2      91     0      1       0         0              1        0   \n",
       "3      92     0      0       1         0              0        0   \n",
       "4  200008     0      0       0         0              0        0   \n",
       "\n",
       "  OS_Windows Vista OS_Windows 8.0 OS_MacOS           ...            \\\n",
       "0                0              0        0           ...             \n",
       "1                0              0        0           ...             \n",
       "2                0              0        0           ...             \n",
       "3                0              0        0           ...             \n",
       "4                0              0        0           ...             \n",
       "\n",
       "          Thumbs Down           Thumbs Up               Upgrade  \\\n",
       "0  0.9577464788732395   3.492957746478873    0.7887323943661971   \n",
       "1  0.7848568790397045   6.832871652816251   0.09233610341643582   \n",
       "2  0.7962840079628402    4.11413404114134     0.033178500331785   \n",
       "3  0.9958506224066389  4.0387275242047025   0.06915629322268327   \n",
       "4   2.584493041749503  3.3797216699801194  0.049701789264413515   \n",
       "\n",
       "           mean_songs         stdev_songs num_aritst      mean_session_h  \\\n",
       "0  50.607142857142854   68.92579976333879       1019  3.0599045138888887   \n",
       "1  102.88235294117646   88.12908313444346       1202   6.367543859649123   \n",
       "2   286.6666666666667  337.84426885770904       1619              19.665   \n",
       "3   70.77380952380952    86.9796197137792       2905   4.745203488372092   \n",
       "4  111.26666666666667  107.38613016763829       1160  7.5379259259259275   \n",
       "\n",
       "      stdev_session_h num_sessions days_total_subscription  \n",
       "0   4.655638231407505           32       63.06664351851852  \n",
       "1   6.150871757879998           19       188.3117824074074  \n",
       "2  23.019357929090734            9      116.02526620370371  \n",
       "3   6.054084867345142           86       83.52885416666666  \n",
       "4   7.284556907097743           15      115.18381944444444  \n",
       "\n",
       "[5 rows x 39 columns]"
      ]
     },
     "execution_count": 72,
     "metadata": {},
     "output_type": "execute_result"
    }
   ],
   "source": [
    "final_df = spark.read.csv('saved_user_dataset.CSV', header = True)\n",
    "pfinal_df = final_df.toPandas()\n",
    "pfinal_df.head()"
   ]
  },
  {
   "cell_type": "code",
   "execution_count": 73,
   "metadata": {},
   "outputs": [
    {
     "name": "stdout",
     "output_type": "stream",
     "text": [
      "root\n",
      " |-- userId: string (nullable = true)\n",
      " |-- churn: string (nullable = true)\n",
      " |-- gender: string (nullable = true)\n",
      " |-- OS_iPad: string (nullable = true)\n",
      " |-- OS_iPhone: string (nullable = true)\n",
      " |-- OS_Windows 8.1: string (nullable = true)\n",
      " |-- OS_Linux: string (nullable = true)\n",
      " |-- OS_Windows Vista: string (nullable = true)\n",
      " |-- OS_Windows 8.0: string (nullable = true)\n",
      " |-- OS_MacOS: string (nullable = true)\n",
      " |-- OS_Windows XP: string (nullable = true)\n",
      " |-- OS_Windows 7: string (nullable = true)\n",
      " |-- paid_percent: string (nullable = true)\n",
      " |-- mean_hours: string (nullable = true)\n",
      " |-- stdev_hours: string (nullable = true)\n",
      " |-- About: string (nullable = true)\n",
      " |-- Add Friend: string (nullable = true)\n",
      " |-- Add to Playlist: string (nullable = true)\n",
      " |-- Downgrade: string (nullable = true)\n",
      " |-- Error: string (nullable = true)\n",
      " |-- Help: string (nullable = true)\n",
      " |-- Home: string (nullable = true)\n",
      " |-- Logout: string (nullable = true)\n",
      " |-- NextSong: string (nullable = true)\n",
      " |-- Roll Advert: string (nullable = true)\n",
      " |-- Save Settings: string (nullable = true)\n",
      " |-- Settings: string (nullable = true)\n",
      " |-- Submit Downgrade: string (nullable = true)\n",
      " |-- Submit Upgrade: string (nullable = true)\n",
      " |-- Thumbs Down: string (nullable = true)\n",
      " |-- Thumbs Up: string (nullable = true)\n",
      " |-- Upgrade: string (nullable = true)\n",
      " |-- mean_songs: string (nullable = true)\n",
      " |-- stdev_songs: string (nullable = true)\n",
      " |-- num_aritst: string (nullable = true)\n",
      " |-- mean_session_h: string (nullable = true)\n",
      " |-- stdev_session_h: string (nullable = true)\n",
      " |-- num_sessions: string (nullable = true)\n",
      " |-- days_total_subscription: string (nullable = true)\n",
      "\n"
     ]
    }
   ],
   "source": [
    "final_df.printSchema()"
   ]
  },
  {
   "cell_type": "code",
   "execution_count": 74,
   "metadata": {},
   "outputs": [
    {
     "name": "stdout",
     "output_type": "stream",
     "text": [
      "['userId', 'churn', 'gender', 'OS_iPad', 'OS_iPhone', 'OS_Windows_81', 'OS_Linux', 'OS_Windows_Vista', 'OS_Windows_80', 'OS_MacOS', 'OS_Windows_XP', 'OS_Windows_7', 'paid_percent', 'mean_hours', 'stdev_hours', 'About', 'Add_Friend', 'Add_to_Playlist', 'Downgrade', 'Error', 'Help', 'Home', 'Logout', 'NextSong', 'Roll_Advert', 'Save_Settings', 'Settings', 'Submit_Downgrade', 'Submit_Upgrade', 'Thumbs_Down', 'Thumbs_Up', 'Upgrade', 'mean_songs', 'stdev_songs', 'num_aritst', 'mean_session_h', 'stdev_session_h', 'num_sessions', 'days_total_subscription']\n"
     ]
    }
   ],
   "source": [
    "# Change the column names to strings without spaces\n",
    "for col in final_df.columns:\n",
    "    final_df = final_df.withColumnRenamed(col, col.replace(' ', '_').replace('.', ''))\n",
    "print(final_df.columns)"
   ]
  },
  {
   "cell_type": "code",
   "execution_count": 75,
   "metadata": {},
   "outputs": [
    {
     "name": "stdout",
     "output_type": "stream",
     "text": [
      "root\n",
      " |-- userId: integer (nullable = true)\n",
      " |-- churn: integer (nullable = true)\n",
      " |-- gender: integer (nullable = true)\n",
      " |-- OS_iPad: integer (nullable = true)\n",
      " |-- OS_iPhone: integer (nullable = true)\n",
      " |-- OS_Windows_81: integer (nullable = true)\n",
      " |-- OS_Linux: integer (nullable = true)\n",
      " |-- OS_Windows_Vista: integer (nullable = true)\n",
      " |-- OS_Windows_80: integer (nullable = true)\n",
      " |-- OS_MacOS: integer (nullable = true)\n",
      " |-- OS_Windows_XP: integer (nullable = true)\n",
      " |-- OS_Windows_7: integer (nullable = true)\n",
      " |-- paid_percent: float (nullable = true)\n",
      " |-- mean_hours: float (nullable = true)\n",
      " |-- stdev_hours: float (nullable = true)\n",
      " |-- About: float (nullable = true)\n",
      " |-- Add_Friend: float (nullable = true)\n",
      " |-- Add_to_Playlist: float (nullable = true)\n",
      " |-- Downgrade: float (nullable = true)\n",
      " |-- Error: float (nullable = true)\n",
      " |-- Help: float (nullable = true)\n",
      " |-- Home: float (nullable = true)\n",
      " |-- Logout: float (nullable = true)\n",
      " |-- NextSong: float (nullable = true)\n",
      " |-- Roll_Advert: float (nullable = true)\n",
      " |-- Save_Settings: float (nullable = true)\n",
      " |-- Settings: float (nullable = true)\n",
      " |-- Submit_Downgrade: float (nullable = true)\n",
      " |-- Submit_Upgrade: float (nullable = true)\n",
      " |-- Thumbs_Down: float (nullable = true)\n",
      " |-- Thumbs_Up: float (nullable = true)\n",
      " |-- Upgrade: float (nullable = true)\n",
      " |-- mean_songs: float (nullable = true)\n",
      " |-- stdev_songs: float (nullable = true)\n",
      " |-- num_aritst: float (nullable = true)\n",
      " |-- mean_session_h: float (nullable = true)\n",
      " |-- stdev_session_h: float (nullable = true)\n",
      " |-- num_sessions: float (nullable = true)\n",
      " |-- days_total_subscription: float (nullable = true)\n",
      "\n"
     ]
    }
   ],
   "source": [
    "# Convert to numbers as the schema shows strings\n",
    "# the first column (userId) would be integer\n",
    "final_df = final_df.withColumn('userId', final_df.userId.cast(sT.IntegerType()))\n",
    "# All columns from Churn to OS_* should be integer types\n",
    "for col in final_df.columns[1:12]:\n",
    "    final_df = final_df.withColumn(col, final_df[col].cast(sT.IntegerType()))\n",
    "# All other columns should be float\n",
    "for col in final_df.columns[12:]:\n",
    "    final_df = final_df.withColumn(col, final_df[col].cast(sT.FloatType()))\n",
    "\n",
    "final_df.printSchema()"
   ]
  },
  {
   "cell_type": "code",
   "execution_count": 76,
   "metadata": {},
   "outputs": [],
   "source": [
    "# Remove  nulls\n",
    "final_df = final_df.na.fill(0)"
   ]
  },
  {
   "cell_type": "code",
   "execution_count": 77,
   "metadata": {},
   "outputs": [],
   "source": [
    "# Get features labels for plotting purposes\n",
    "features_labels = final_df.columns[2:]"
   ]
  },
  {
   "cell_type": "code",
   "execution_count": 78,
   "metadata": {},
   "outputs": [],
   "source": [
    "# Define the vector assembler for all input columns\n",
    "features_vector = VectorAssembler(inputCols=final_df.columns[2:], outputCol='features')\n",
    "\n",
    "# Apply the vectorization on the dataset\n",
    "input_data = features_vector.transform(final_df)\n",
    "# input_data.show(1)"
   ]
  },
  {
   "cell_type": "code",
   "execution_count": 79,
   "metadata": {},
   "outputs": [],
   "source": [
    "features_scaler = StandardScaler(withMean=True, withStd=True, inputCol='features', outputCol='scaled_features')\n",
    "features_scaler_fit = features_scaler.fit(input_data)\n",
    "scaled_inputs = features_scaler_fit.transform(input_data)"
   ]
  },
  {
   "cell_type": "code",
   "execution_count": 80,
   "metadata": {},
   "outputs": [],
   "source": [
    "# Select the output and input features\n",
    "ml_data = scaled_inputs.select(scaled_inputs.churn.alias('label'), scaled_inputs.scaled_features.alias('features'))"
   ]
  },
  {
   "cell_type": "code",
   "execution_count": 81,
   "metadata": {},
   "outputs": [],
   "source": [
    "# Defining training and testing samples\n",
    "train, test = ml_data.randomSplit([0.80, 0.20], seed=179)\n",
    "# train.show(3), test.show(3)"
   ]
  },
  {
   "cell_type": "markdown",
   "metadata": {},
   "source": [
    "### Defining Functions for Analysis"
   ]
  },
  {
   "cell_type": "code",
   "execution_count": 82,
   "metadata": {},
   "outputs": [],
   "source": [
    "def format_duration (t_dif):\n",
    "    t_s = t_dif.seconds\n",
    "    duration = {}\n",
    "    duration['h'], rem = divmod(t_s, 3600) \n",
    "    duration['m'], duration['s'] = divmod(rem, 60)\n",
    "    stamp = ''\n",
    "    if duration['h']>0:\n",
    "        stamp += f\"{duration['h']} hour(s), \" \n",
    "    if duration['m']>0:\n",
    "        stamp += f\"{duration['m']} minute(s) and \"\n",
    "    # seconds and fraction of seconds\n",
    "    frac = int(t_dif.microseconds/10000)/100\n",
    "    stamp += f\"{duration['s'] + frac} second(s)\"\n",
    "    # print(f\"{duration['h']}h:{duration['m']}m:{duration['s']}s\")\n",
    "    return stamp"
   ]
  },
  {
   "cell_type": "code",
   "execution_count": 83,
   "metadata": {},
   "outputs": [],
   "source": [
    "def model_fitting(data, model_type, param_grid, save_as, num_folds=3, random_seed=179):\n",
    "    '''\n",
    "    \n",
    "    \n",
    "    '''\n",
    "    model_evaluator = CrossValidator(estimator=model_type, estimatorParamMaps=param_grid,\n",
    "                                      evaluator=MulticlassClassificationEvaluator(),\n",
    "                                      numFolds=num_folds, seed=random_seed)\n",
    "    t_start = pd.tslib.Timestamp.now()\n",
    "    print ('Fitting in progress...', end=' ')\n",
    "    fitted_model = model_evaluator.fit(data)\n",
    "    t_dif = pd.tslib.Timestamp.now() - t_start\n",
    "    print (f'Done in {format_duration(t_dif)}')\n",
    "    t_start = pd.tslib.Timestamp.now()\n",
    "    print (f'\\nSaving the model as {save_as}...' , end=' ')\n",
    "    try:\n",
    "        fitted_model.save(save_as)\n",
    "    except:\n",
    "        # Overwrite if exists\n",
    "        fitted_model.write().overwrite().save(save_as)\n",
    "        print ('*Overwritten* ', end='')\n",
    "    t_dif = pd.tslib.Timestamp.now() - t_start\n",
    "    print (f'Done in {format_duration(t_dif)}')\n",
    "    return fitted_model"
   ]
  },
  {
   "cell_type": "code",
   "execution_count": 84,
   "metadata": {},
   "outputs": [],
   "source": [
    "def get_formated_metrics(selected_model, test_data):\n",
    "    '''\n",
    "    Prints a compacted dataframe with all the model's metrics\n",
    "    selected_model: The fitted model\n",
    "    test_data: the test data portion\n",
    "    '''\n",
    "    def get_model_metrics(selected_model, model_type = 'train'):\n",
    "        '''\n",
    "        Get the metrics of a model\n",
    "        selected_model:  the fitted model\n",
    "        model_type: either 'train' (default) or 'test'\n",
    "        '''\n",
    "        if model_type == 'train':\n",
    "            metrics = selected_model.bestModel.summary\n",
    "        else: \n",
    "            metrics = selected_model\n",
    "        acc = metrics.accuracy, \n",
    "        general = np.array((metrics.weightedFMeasure(),\n",
    "                   metrics.weightedPrecision, metrics.weightedRecall,\n",
    "                   metrics.weightedTruePositiveRate, metrics.weightedFalsePositiveRate))\n",
    "        general = general.reshape(1, general.shape[0])\n",
    "        labels = ['General'] + [f'Churn={x}' for x in metrics.labels]\n",
    "        labeled = np.array((metrics.fMeasureByLabel(),\n",
    "                          metrics.precisionByLabel, metrics.recallByLabel,\n",
    "                          metrics.truePositiveRateByLabel, metrics.falsePositiveRateByLabel))\n",
    "        conc_results = np.concatenate((general.T, labeled), axis=1)\n",
    "        metrics_names = ['F-Measure', 'Precision', 'Recall', 'True_+ve_Rate', 'False_+ve_Rate']\n",
    "        df_res = pd.DataFrame(conc_results, columns=labels, index=metrics_names)\n",
    "        return acc[0], df_res\n",
    "    \n",
    "    # Apply for training data\n",
    "    acc_train, train_res = get_model_metrics(selected_model)\n",
    "    # Get the results of the test data\n",
    "    model_test = selected_model.bestModel.evaluate(test_data)\n",
    "    # Apply on test data\n",
    "    acc_test, test_res = get_model_metrics(model_test, model_type='test')\n",
    "    \n",
    "    # Concatenate to a pretty dataframe\n",
    "    pretty_frame = pd.concat([train_res, test_res], axis=1, keys=[\n",
    "                    f'Training (Accuracy = {acc_train*100:4.2f}%)',\n",
    "                    f'Testing (Accuracy = {acc_test*100:4.2f}%)'])\n",
    "    return pretty_frame"
   ]
  },
  {
   "cell_type": "code",
   "execution_count": 85,
   "metadata": {},
   "outputs": [],
   "source": [
    "def draw_features_contribution(fitted_model, x_labels, scale_to='full_range'):\n",
    "    '''\n",
    "    Draws a bar chart of features vs churn %\n",
    "    fitted_model: the fitted model\n",
    "    scale_to: the values will be scated to:\n",
    "           'full_range' where the full absolute values are summed to 100.\n",
    "           'maximum_range' where the maximum absolute extremes are scalled to 100.\n",
    "           'none' the values are shown as is.\n",
    "    '''\n",
    "    cmx = fitted_model.bestModel.coefficientMatrix\n",
    "    cmv = cmx.values\n",
    "    # cmv.shape, len(final_df.columns[2:])\n",
    "    \n",
    "    # Define positive and negative values\n",
    "    positives_v = np.array([x if x>=0 else 0 for x in cmv])\n",
    "    negatives_v = np.array([x if x<=0 else 0 for x in cmv])    \n",
    "    \n",
    "    # Drawing by scalling the maximum range to  100\n",
    "    if scale_to == 'full_range':\n",
    "        rang = positives_v.sum()+ abs(negatives_v).sum()\n",
    "    elif scale_to == 'maximum_range':\n",
    "        rang = positives_v.max()+ abs(negatives_v).max()\n",
    "    else:\n",
    "        rang = 1.\n",
    "        \n",
    "    positives_v /= rang\n",
    "    negatives_v /= rang\n",
    "    positives_v *= 100.\n",
    "    negatives_v *= 100.\n",
    "    fig, ax = plt.subplots(figsize=(16, 9))\n",
    "    ax.bar(x_labels, positives_v,color='r')\n",
    "    ax.bar(x_labels, negatives_v, color='g')\n",
    "    ax.set_xlabel('Features')\n",
    "    ax.set_ylabel('The user is most likely to churn (%)')\n",
    "    ax.set_title('Contribution of each feature to the churn decission')\n",
    "    ax.set_xticklabels(labels = final_df.columns[2:], rotation='vertical');"
   ]
  },
  {
   "cell_type": "code",
   "execution_count": 86,
   "metadata": {},
   "outputs": [],
   "source": [
    "def get_classifier_metrics(trained_model, train_data, test_data):\n",
    "    '''\n",
    "    \n",
    "    '''\n",
    "    def get_specific_metrics(trained_model, data):\n",
    "        '''\n",
    "        \n",
    "        '''\n",
    "        res2 = trained_model.transform(data).select('label', 'prediction')\n",
    "        TruePos = res2.filter((res2.prediction==1)& (res2.label == res2.prediction) ).count()\n",
    "        TrueNeg = res2.filter((res2.prediction==0)& (res2.label == res2.prediction) ).count()\n",
    "        FalsPos = res2.filter((res2.prediction==1)& (res2.label != res2.prediction) ).count()\n",
    "        FalsNeg = res2.filter((res2.prediction==0)& (res2.label != res2.prediction) ).count()\n",
    "        accuracy = res2.filter(res2.label == res2.prediction).count()/res2.count()\n",
    "        precision = TruePos/(TruePos+FalsPos)\n",
    "        recall = TruePos/(TruePos+FalsNeg)\n",
    "        f1score = 2 * precision * recall / (precision + recall)\n",
    "        return accuracy, precision, recall, f1score\n",
    "    train_metrics = get_specific_metrics(trained_model, train_data)\n",
    "    test_metrics = get_specific_metrics(trained_model, test_data)\n",
    "    labels =['Train', 'Test']\n",
    "    metrics_names = ['Accuracy', 'Precision', 'Recall', 'F-Score']\n",
    "    metrics_data =np.array((train_metrics, test_metrics))\n",
    "    return pd.DataFrame(data=metrics_data.T, columns=labels, index=metrics_names)"
   ]
  },
  {
   "cell_type": "code",
   "execution_count": 87,
   "metadata": {},
   "outputs": [],
   "source": [
    "def draw_features_importance(fitted_model, x_labels, threshold=0.1):\n",
    "    '''\n",
    "    Draws a pie chart of features\n",
    "    fitted_model: the fitted model\n",
    "    x_labels: the labels of the features.\n",
    "    threshold: the minimum value (%) to consider, \n",
    "               if the value is less than that, \n",
    "               it will be neglected (default =0)\n",
    "    '''\n",
    "    importance = list(fitted_model.bestModel.featureImportances.toArray())\n",
    "    # Get the threshold value\n",
    "    thres_v = threshold / 100 \n",
    "    # get the included and neglected values\n",
    "    active_values = [x for x in importance if x >= thres_v]\n",
    "    neglected = [x for x in importance if x < thres_v]\n",
    "    non_zero_neglected = [x for x in neglected if x > 0]\n",
    "    # print(importance, '\\n', x_labels, '\\n', thres_v, '\\n', \n",
    "    #       active_values, '\\n', neglected, '\\n', non_zero_neglected)\n",
    "    # get the accepted indexes\n",
    "    active_idx = [importance.index(x) for x in active_values]\n",
    "    # the accepted lables + minor features\n",
    "    active_labels = [x_labels[x] for x in active_idx]\n",
    "    minor_v = sum(neglected)\n",
    "    # print(active_idx, '\\n', active_labels, '\\n', minor_v)\n",
    "    # If there is any minor features\n",
    "    if minor_v>0:\n",
    "        active_values.append(minor_v)\n",
    "        active_labels.append(f'MINOR, ({len( \\\n",
    "                non_zero_neglected)}feats. each<{threshold}%)')\n",
    "    # print(active_labels, '\\n', active_values)\n",
    "    \n",
    "    # sorting\n",
    "    active_labels =[x for _, x in sorted(zip(active_values, active_labels))]\n",
    "    active_values = sorted(active_values)\n",
    "    \n",
    "    # Draw\n",
    "\n",
    "    fig, ax = plt.subplots(figsize=(16, 9))\n",
    "    ax.pie(active_values[::-1], labels=active_labels[::-1] , \n",
    "           autopct='%1.1f%%', shadow=True, \n",
    "           startangle=90 )\n",
    "    ax.set_title('Importance of each feature to the churn decission')\n",
    "    ax.axis('equal');"
   ]
  },
  {
   "cell_type": "markdown",
   "metadata": {},
   "source": [
    "## 1. The Logistic Regression Model"
   ]
  },
  {
   "cell_type": "code",
   "execution_count": 88,
   "metadata": {},
   "outputs": [
    {
     "name": "stderr",
     "output_type": "stream",
     "text": [
      "/opt/conda/lib/python3.6/site-packages/ipykernel_launcher.py:9: FutureWarning: pandas.tslib is deprecated and will be removed in a future version.\n",
      "You can access Timestamp as pandas.Timestamp\n",
      "  if __name__ == '__main__':\n"
     ]
    },
    {
     "name": "stdout",
     "output_type": "stream",
     "text": [
      "Fitting in progress... Done in 2 minute(s) and 23.09 second(s)\n",
      "\n",
      "Saving the model as LogisticRegression.model... Done in 1.5699999999999998 second(s)\n"
     ]
    },
    {
     "data": {
      "text/html": [
       "<div>\n",
       "<style scoped>\n",
       "    .dataframe tbody tr th:only-of-type {\n",
       "        vertical-align: middle;\n",
       "    }\n",
       "\n",
       "    .dataframe tbody tr th {\n",
       "        vertical-align: top;\n",
       "    }\n",
       "\n",
       "    .dataframe thead tr th {\n",
       "        text-align: left;\n",
       "    }\n",
       "</style>\n",
       "<table border=\"1\" class=\"dataframe\">\n",
       "  <thead>\n",
       "    <tr>\n",
       "      <th></th>\n",
       "      <th colspan=\"3\" halign=\"left\">Training (Accuracy = 81.36%)</th>\n",
       "      <th colspan=\"3\" halign=\"left\">Testing (Accuracy = 72.92%)</th>\n",
       "    </tr>\n",
       "    <tr>\n",
       "      <th></th>\n",
       "      <th>General</th>\n",
       "      <th>Churn=0.0</th>\n",
       "      <th>Churn=1.0</th>\n",
       "      <th>General</th>\n",
       "      <th>Churn=0.0</th>\n",
       "      <th>Churn=1.0</th>\n",
       "    </tr>\n",
       "  </thead>\n",
       "  <tbody>\n",
       "    <tr>\n",
       "      <th>F-Measure</th>\n",
       "      <td>0.758693</td>\n",
       "      <td>0.893204</td>\n",
       "      <td>0.266667</td>\n",
       "      <td>0.660400</td>\n",
       "      <td>0.835443</td>\n",
       "      <td>0.235294</td>\n",
       "    </tr>\n",
       "    <tr>\n",
       "      <th>Precision</th>\n",
       "      <td>0.821507</td>\n",
       "      <td>0.811765</td>\n",
       "      <td>0.857143</td>\n",
       "      <td>0.713889</td>\n",
       "      <td>0.733333</td>\n",
       "      <td>0.666667</td>\n",
       "    </tr>\n",
       "    <tr>\n",
       "      <th>Recall</th>\n",
       "      <td>0.813559</td>\n",
       "      <td>0.992806</td>\n",
       "      <td>0.157895</td>\n",
       "      <td>0.729167</td>\n",
       "      <td>0.970588</td>\n",
       "      <td>0.142857</td>\n",
       "    </tr>\n",
       "    <tr>\n",
       "      <th>True_+ve_Rate</th>\n",
       "      <td>0.813559</td>\n",
       "      <td>0.992806</td>\n",
       "      <td>0.157895</td>\n",
       "      <td>0.729167</td>\n",
       "      <td>0.970588</td>\n",
       "      <td>0.142857</td>\n",
       "    </tr>\n",
       "    <tr>\n",
       "      <th>False_+ve_Rate</th>\n",
       "      <td>0.662859</td>\n",
       "      <td>0.842105</td>\n",
       "      <td>0.007194</td>\n",
       "      <td>0.615721</td>\n",
       "      <td>0.857143</td>\n",
       "      <td>0.029412</td>\n",
       "    </tr>\n",
       "  </tbody>\n",
       "</table>\n",
       "</div>"
      ],
      "text/plain": [
       "               Training (Accuracy = 81.36%)                      \\\n",
       "                                    General Churn=0.0 Churn=1.0   \n",
       "F-Measure                          0.758693  0.893204  0.266667   \n",
       "Precision                          0.821507  0.811765  0.857143   \n",
       "Recall                             0.813559  0.992806  0.157895   \n",
       "True_+ve_Rate                      0.813559  0.992806  0.157895   \n",
       "False_+ve_Rate                     0.662859  0.842105  0.007194   \n",
       "\n",
       "               Testing (Accuracy = 72.92%)                      \n",
       "                                   General Churn=0.0 Churn=1.0  \n",
       "F-Measure                         0.660400  0.835443  0.235294  \n",
       "Precision                         0.713889  0.733333  0.666667  \n",
       "Recall                            0.729167  0.970588  0.142857  \n",
       "True_+ve_Rate                     0.729167  0.970588  0.142857  \n",
       "False_+ve_Rate                    0.615721  0.857143  0.029412  "
      ]
     },
     "metadata": {},
     "output_type": "display_data"
    },
    {
     "data": {
      "image/png": "[encoded data removed]",
      "text/plain": [
       "<matplotlib.figure.Figure at 0x7f666b3f1438>"
      ]
     },
     "metadata": {
      "needs_background": "light"
     },
     "output_type": "display_data"
    }
   ],
   "source": [
    "# The Logistic Regression model\n",
    "\n",
    "model = LogisticRegression()\n",
    "param_grid = ParamGridBuilder() \\\n",
    "    .addGrid(model.regParam,[0.01, 0.1]) \\\n",
    "    .addGrid(model.elasticNetParam,[0.0, 0.5]) \\\n",
    "    .addGrid(model.aggregationDepth,[2, 5]) \\\n",
    "    .build()\n",
    "# param_grid = ParamGridBuilder() \\\n",
    "#     .addGrid(model.aggregationDepth,[2, 5]) \\\n",
    "#     .build()\n",
    "m = model_fitting(train, model, param_grid, 'LogisticRegression.model')\n",
    "# Model metrics\n",
    "display(get_formated_metrics(m, test))\n",
    "# Features effect\n",
    "draw_features_contribution(m, x_labels=features_labels)"
   ]
  },
  {
   "cell_type": "markdown",
   "metadata": {},
   "source": [
    "## 2. The Decision Tree Classifier model"
   ]
  },
  {
   "cell_type": "code",
   "execution_count": 89,
   "metadata": {},
   "outputs": [
    {
     "name": "stdout",
     "output_type": "stream",
     "text": [
      "Fitting in progress... Done in 34.98 second(s)\n",
      "\n",
      "Saving the model as DecisionTreeClassifier.model... Done in 0.79 second(s)\n"
     ]
    }
   ],
   "source": [
    "# The Decision Tree Classifier model\n",
    "\n",
    "model = DecisionTreeClassifier()\n",
    "param_grid = ParamGridBuilder() \\\n",
    "    .addGrid(model.maxDepth,[3, 5, 10]) \\\n",
    "    .addGrid(model.impurity,['entropy', 'gini']) \\\n",
    "    .build()\n",
    "\n",
    "m = model_fitting(train, model, param_grid, 'DecisionTreeClassifier.model')"
   ]
  },
  {
   "cell_type": "code",
   "execution_count": 90,
   "metadata": {},
   "outputs": [],
   "source": [
    "# to load the model from saved location\n",
    "m = mlm.load('DecisionTreeClassifier.model')"
   ]
  },
  {
   "cell_type": "code",
   "execution_count": 91,
   "metadata": {},
   "outputs": [
    {
     "data": {
      "text/html": [
       "<div>\n",
       "<style scoped>\n",
       "    .dataframe tbody tr th:only-of-type {\n",
       "        vertical-align: middle;\n",
       "    }\n",
       "\n",
       "    .dataframe tbody tr th {\n",
       "        vertical-align: top;\n",
       "    }\n",
       "\n",
       "    .dataframe thead th {\n",
       "        text-align: right;\n",
       "    }\n",
       "</style>\n",
       "<table border=\"1\" class=\"dataframe\">\n",
       "  <thead>\n",
       "    <tr style=\"text-align: right;\">\n",
       "      <th></th>\n",
       "      <th>Train</th>\n",
       "      <th>Test</th>\n",
       "    </tr>\n",
       "  </thead>\n",
       "  <tbody>\n",
       "    <tr>\n",
       "      <th>Accuracy</th>\n",
       "      <td>0.875706</td>\n",
       "      <td>0.812500</td>\n",
       "    </tr>\n",
       "    <tr>\n",
       "      <th>Precision</th>\n",
       "      <td>0.807692</td>\n",
       "      <td>0.777778</td>\n",
       "    </tr>\n",
       "    <tr>\n",
       "      <th>Recall</th>\n",
       "      <td>0.552632</td>\n",
       "      <td>0.500000</td>\n",
       "    </tr>\n",
       "    <tr>\n",
       "      <th>F-Score</th>\n",
       "      <td>0.656250</td>\n",
       "      <td>0.608696</td>\n",
       "    </tr>\n",
       "  </tbody>\n",
       "</table>\n",
       "</div>"
      ],
      "text/plain": [
       "              Train      Test\n",
       "Accuracy   0.875706  0.812500\n",
       "Precision  0.807692  0.777778\n",
       "Recall     0.552632  0.500000\n",
       "F-Score    0.656250  0.608696"
      ]
     },
     "execution_count": 91,
     "metadata": {},
     "output_type": "execute_result"
    }
   ],
   "source": [
    "get_classifier_metrics(m, train, test)"
   ]
  },
  {
   "cell_type": "code",
   "execution_count": 92,
   "metadata": {},
   "outputs": [
    {
     "data": {
      "image/png": "[encoded data removed]",
      "text/plain": [
       "<matplotlib.figure.Figure at 0x7f6679c0b518>"
      ]
     },
     "metadata": {},
     "output_type": "display_data"
    }
   ],
   "source": [
    "draw_features_importance(m, features_labels, threshold=3)"
   ]
  },
  {
   "cell_type": "markdown",
   "metadata": {},
   "source": [
    "## 3. The Gradient-Boosted Trees (GBTs) model"
   ]
  },
  {
   "cell_type": "code",
   "execution_count": 93,
   "metadata": {},
   "outputs": [
    {
     "name": "stdout",
     "output_type": "stream",
     "text": [
      "Fitting in progress... Done in 5 minute(s) and 44.89 second(s)\n",
      "\n",
      "Saving the model as GradientBoostedTrees.model... Done in 0.9 second(s)\n"
     ]
    }
   ],
   "source": [
    "# The Gradient-Boosted Trees (GBTs) model\n",
    "\n",
    "model = GBTClassifier()\n",
    "param_grid = ParamGridBuilder() \\\n",
    "    .addGrid(model.maxDepth,[3, 5, 10]) \\\n",
    "    .addGrid(model.maxBins ,[10, 5]) \\\n",
    "    .addGrid(model.maxIter ,[20, 5]) \\\n",
    "    .build()\n",
    "\n",
    "m = model_fitting(train, model, param_grid, 'GradientBoostedTrees.model')"
   ]
  },
  {
   "cell_type": "code",
   "execution_count": 94,
   "metadata": {},
   "outputs": [],
   "source": [
    "# to load the model from saved location\n",
    "m = mlm.load('GradientBoostedTrees.model')"
   ]
  },
  {
   "cell_type": "code",
   "execution_count": 95,
   "metadata": {},
   "outputs": [
    {
     "data": {
      "text/html": [
       "<div>\n",
       "<style scoped>\n",
       "    .dataframe tbody tr th:only-of-type {\n",
       "        vertical-align: middle;\n",
       "    }\n",
       "\n",
       "    .dataframe tbody tr th {\n",
       "        vertical-align: top;\n",
       "    }\n",
       "\n",
       "    .dataframe thead th {\n",
       "        text-align: right;\n",
       "    }\n",
       "</style>\n",
       "<table border=\"1\" class=\"dataframe\">\n",
       "  <thead>\n",
       "    <tr style=\"text-align: right;\">\n",
       "      <th></th>\n",
       "      <th>Train</th>\n",
       "      <th>Test</th>\n",
       "    </tr>\n",
       "  </thead>\n",
       "  <tbody>\n",
       "    <tr>\n",
       "      <th>Accuracy</th>\n",
       "      <td>0.870056</td>\n",
       "      <td>0.750000</td>\n",
       "    </tr>\n",
       "    <tr>\n",
       "      <th>Precision</th>\n",
       "      <td>0.800000</td>\n",
       "      <td>0.625000</td>\n",
       "    </tr>\n",
       "    <tr>\n",
       "      <th>Recall</th>\n",
       "      <td>0.526316</td>\n",
       "      <td>0.357143</td>\n",
       "    </tr>\n",
       "    <tr>\n",
       "      <th>F-Score</th>\n",
       "      <td>0.634921</td>\n",
       "      <td>0.454545</td>\n",
       "    </tr>\n",
       "  </tbody>\n",
       "</table>\n",
       "</div>"
      ],
      "text/plain": [
       "              Train      Test\n",
       "Accuracy   0.870056  0.750000\n",
       "Precision  0.800000  0.625000\n",
       "Recall     0.526316  0.357143\n",
       "F-Score    0.634921  0.454545"
      ]
     },
     "metadata": {},
     "output_type": "display_data"
    }
   ],
   "source": [
    "# Display KPIs\n",
    "display(get_classifier_metrics(m, train, test))"
   ]
  },
  {
   "cell_type": "code",
   "execution_count": 96,
   "metadata": {},
   "outputs": [
    {
     "data": {
      "image/png": "[encoded data removed]",
      "text/plain": [
       "<matplotlib.figure.Figure at 0x7f6682f2bc18>"
      ]
     },
     "metadata": {},
     "output_type": "display_data"
    }
   ],
   "source": [
    "draw_features_importance(m, features_labels, threshold=3)"
   ]
  },
  {
   "cell_type": "markdown",
   "metadata": {},
   "source": [
    "## Conclusion"
   ]
  },
  {
   "cell_type": "markdown",
   "metadata": {},
   "source": [
    "ML modeling throve predicting the customer activity that would potentially lead to churning. Despite the results of the models' attempted, the Decision Tree Classifier model seems to be the superlative versus other models. I recommend to try out other models in full dataset with re-adjustments using different settings to diminish the overfitting."
   ]
  },
  {
   "cell_type": "markdown",
   "metadata": {},
   "source": [
    "## Recommendation\n",
    "\n",
    "Perhaps, I would recommend the following:\n",
    "\n",
    "a) Increase the data sample (12 GB full dataset)\n",
    "\n",
    "\n",
    "b) Explore more KPIs features in order to see the better outcomes from other models"
   ]
  },
  {
   "cell_type": "markdown",
   "metadata": {},
   "source": [
    "# Final Steps\n",
    "Clean up your code, adding comments and renaming variables to make the code easier to read and maintain. Refer to the Spark Project Overview page and Data Scientist Capstone Project Rubric to make sure you are including all components of the capstone project and meet all expectations. Remember, this includes thorough documentation in a README file in a Github repository, as well as a web app or blog post."
   ]
  },
  {
   "cell_type": "markdown",
   "metadata": {},
   "source": [
    "#### DONE"
   ]
  },
  {
   "cell_type": "code",
   "execution_count": null,
   "metadata": {},
   "outputs": [],
   "source": []
  }
 ],
 "metadata": {
  "kernelspec": {
   "display_name": "Python 3",
   "language": "python",
   "name": "python3"
  },
  "language_info": {
   "codemirror_mode": {
    "name": "ipython",
    "version": 3
   },
   "file_extension": ".py",
   "mimetype": "text/x-python",
   "name": "python",
   "nbconvert_exporter": "python",
   "pygments_lexer": "ipython3",
   "version": "3.6.5"
  }
 },
 "nbformat": 4,
 "nbformat_minor": 2
}
